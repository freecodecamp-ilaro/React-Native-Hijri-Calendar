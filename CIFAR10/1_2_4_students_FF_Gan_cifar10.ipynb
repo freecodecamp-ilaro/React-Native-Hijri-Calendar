{
  "nbformat": 4,
  "nbformat_minor": 0,
  "metadata": {
    "colab": {
      "name": "1_2_4 students FF_Gan_cifar10.ipynb",
      "provenance": [],
      "collapsed_sections": [],
      "authorship_tag": "ABX9TyP1lSOlwXeVu8TyLPOIB2xD",
      "include_colab_link": true
    },
    "kernelspec": {
      "name": "python3",
      "display_name": "Python 3"
    },
    "accelerator": "GPU"
  },
  "cells": [
    {
      "cell_type": "markdown",
      "metadata": {
        "id": "view-in-github",
        "colab_type": "text"
      },
      "source": [
        "<a href=\"https://colab.research.google.com/github/musab-r/React-Native-Hijri-Calendar/blob/master/CIFAR10/1_2_4_students_FF_Gan_cifar10.ipynb\" target=\"_parent\"><img src=\"https://colab.research.google.com/assets/colab-badge.svg\" alt=\"Open In Colab\"/></a>"
      ]
    },
    {
      "cell_type": "code",
      "metadata": {
        "id": "g_QUM9A-is9R"
      },
      "source": [
        ""
      ],
      "execution_count": null,
      "outputs": []
    },
    {
      "cell_type": "code",
      "metadata": {
        "id": "imgZBevn_klO"
      },
      "source": [
        "# %tensorflow_version 1.x\n",
        "# !pip install --upgrade opencv-python==3.4.2.17\n",
        "import numpy as np\n",
        "import tensorflow as tf\n",
        "import tensorflow.keras\n",
        "import tensorflow.keras.backend as K\n",
        "# import os\n",
        "from tensorflow.keras.datasets import fashion_mnist,mnist,cifar10\n",
        "# import keras.backend as K\n",
        "from tensorflow.keras.layers import Conv2D,Activation,BatchNormalization,UpSampling2D,Embedding,ZeroPadding2D, Input, Flatten, Dense, Reshape, LeakyReLU, Dropout,MaxPooling2D\n",
        "from tensorflow.keras.models import Sequential, Model\n",
        "from tensorflow.keras.optimizers import Adam, SGD, RMSprop\n",
        "from tensorflow.keras import regularizers\n",
        "\n",
        "from tensorflow.keras.utils import Progbar\n",
        "from keras.initializers import RandomNormal\n",
        "import random\n",
        "from sklearn.model_selection import train_test_split\n",
        "# from keras.utils import np_utils\n",
        "from tensorflow.keras import utils as np_utils\n",
        "\n"
      ],
      "execution_count": null,
      "outputs": []
    },
    {
      "cell_type": "code",
      "metadata": {
        "id": "v0-DYwB8kiFk"
      },
      "source": [
        "nb_classes = 10\n",
        "batch_size = 128\n",
        "maxepoches = 250\n",
        "learning_rate = 0.1\n",
        "lr_decay = 1e-6\n",
        "lr_drop = 20\n",
        "def lr_scheduler(epoch):\n",
        "    return learning_rate * (0.5 ** (epoch // lr_drop))\n",
        "reduce_lr = tf.keras.callbacks.LearningRateScheduler(lr_scheduler)"
      ],
      "execution_count": null,
      "outputs": []
    },
    {
      "cell_type": "code",
      "metadata": {
        "id": "e04yi6rW_qJg"
      },
      "source": [
        "#Loading and splitting the dataset into train, validation and test\n",
        "\n",
        "\n",
        "(X_Train, y_Train), (X_test, y_test) = cifar10.load_data()\n",
        "X_train, X_val, y_train, y_val = train_test_split(X_Train, y_Train, test_size=0.20)\n",
        "# convert y_train and y_test to categorical binary values \n",
        "Y_train = np_utils.to_categorical(y_train, nb_classes)\n",
        "Y_val = np_utils.to_categorical(y_val, nb_classes)\n",
        "y_test = np_utils.to_categorical(y_test, nb_classes)"
      ],
      "execution_count": null,
      "outputs": []
    },
    {
      "cell_type": "code",
      "metadata": {
        "id": "Lj_XM_dfmqnV",
        "colab": {
          "base_uri": "https://localhost:8080/"
        },
        "outputId": "693c21c8-a57b-48dd-b592-74f18de6244e"
      },
      "source": [
        "X_Train.shape"
      ],
      "execution_count": null,
      "outputs": [
        {
          "output_type": "execute_result",
          "data": {
            "text/plain": [
              "(50000, 32, 32, 3)"
            ]
          },
          "metadata": {
            "tags": []
          },
          "execution_count": 4
        }
      ]
    },
    {
      "cell_type": "code",
      "metadata": {
        "id": "443_UL2p_qyQ"
      },
      "source": [
        "# Reshape them to batch_size, width,height,#channels\n",
        "X_train = X_train.reshape(40000, 32, 32, 3)\n",
        "X_val = X_val.reshape(10000, 32, 32, 3)\n",
        "X_test = X_test.reshape(10000, 32, 32, 3)\n",
        "\n",
        "X_train = X_train.astype('float32')\n",
        "X_val = X_val.astype('float32')\n",
        "X_test = X_test.astype('float32')\n",
        "\n",
        "# Normalize the values\n",
        "X_train /= 255\n",
        "X_val /= 255\n",
        "X_test /= 255"
      ],
      "execution_count": null,
      "outputs": []
    },
    {
      "cell_type": "code",
      "metadata": {
        "id": "5aQn2hUFNVDY"
      },
      "source": [
        "init=RandomNormal(mean=0,stddev=0.02)\n",
        "input_shape = (32, 32, 3) # Input shape of each image\n",
        "weight_decay = 0.0005\n",
        "def build_model():\n",
        "    # Build the network of vgg for 10 classes with massive dropout and weight decay as described in the paper.\n",
        "\n",
        "    model = Sequential()\n",
        "\n",
        "    model.add(Conv2D(64, (3, 3), padding='same',\n",
        "                     input_shape=input_shape,kernel_regularizer=regularizers.l2(weight_decay)))\n",
        "    model.add(Activation('relu'))\n",
        "    model.add(BatchNormalization())\n",
        "    model.add(Dropout(0.3))\n",
        "\n",
        "    model.add(Conv2D(64, (3, 3), padding='same',kernel_regularizer=regularizers.l2(weight_decay)))\n",
        "    model.add(Activation('relu'))\n",
        "    model.add(BatchNormalization())\n",
        "\n",
        "    model.add(MaxPooling2D(pool_size=(2, 2),padding='same'))\n",
        "\n",
        "    model.add(Conv2D(128, (3, 3), padding='same',kernel_regularizer=regularizers.l2(weight_decay)))\n",
        "    model.add(Activation('relu'))\n",
        "    model.add(BatchNormalization())\n",
        "    model.add(Dropout(0.4))\n",
        "\n",
        "    model.add(Conv2D(128, (3, 3), padding='same',kernel_regularizer=regularizers.l2(weight_decay)))\n",
        "    model.add(Activation('relu'))\n",
        "    model.add(BatchNormalization())\n",
        "\n",
        "    model.add(MaxPooling2D(pool_size=(2, 2),padding='same'))\n",
        "\n",
        "    model.add(Conv2D(256, (3, 3), padding='same',kernel_regularizer=regularizers.l2(weight_decay)))\n",
        "    model.add(Activation('relu'))\n",
        "    model.add(BatchNormalization())\n",
        "    model.add(Dropout(0.4))\n",
        "\n",
        "    model.add(Conv2D(256, (3, 3), padding='same',kernel_regularizer=regularizers.l2(weight_decay)))\n",
        "    model.add(Activation('relu'))\n",
        "    model.add(BatchNormalization())\n",
        "    model.add(Dropout(0.4))\n",
        "\n",
        "    model.add(Conv2D(256, (3, 3), padding='same',kernel_regularizer=regularizers.l2(weight_decay)))\n",
        "    model.add(Activation('relu'))\n",
        "    model.add(BatchNormalization())\n",
        "\n",
        "    model.add(MaxPooling2D(pool_size=(2, 2),padding='same'))\n",
        "\n",
        "    model.add(Conv2D(512, (3, 3), padding='same',kernel_regularizer=regularizers.l2(weight_decay)))\n",
        "    model.add(Activation('relu'))\n",
        "    model.add(BatchNormalization())\n",
        "    model.add(Dropout(0.4))\n",
        "\n",
        "    model.add(Conv2D(512, (3, 3), padding='same',kernel_regularizer=regularizers.l2(weight_decay)))\n",
        "    model.add(Activation('relu'))\n",
        "    model.add(BatchNormalization())\n",
        "    model.add(Dropout(0.4))\n",
        "\n",
        "    model.add(Conv2D(512, (3, 3), padding='same',kernel_regularizer=regularizers.l2(weight_decay)))\n",
        "    model.add(Activation('relu'))\n",
        "    model.add(BatchNormalization())\n",
        "\n",
        "    model.add(MaxPooling2D(pool_size=(2, 2),padding='same'))\n",
        "\n",
        "    model.add(Conv2D(512, (3, 3), padding='same',kernel_regularizer=regularizers.l2(weight_decay)))\n",
        "    model.add(Activation('relu'))\n",
        "    model.add(BatchNormalization())\n",
        "    model.add(Dropout(0.4))\n",
        "\n",
        "    model.add(Conv2D(512, (3, 3), padding='same',kernel_regularizer=regularizers.l2(weight_decay)))\n",
        "    model.add(Activation('relu'))\n",
        "    model.add(BatchNormalization())\n",
        "    model.add(Dropout(0.4))\n",
        "\n",
        "    model.add(Conv2D(512, (3, 3), padding='same',kernel_regularizer=regularizers.l2(weight_decay)))\n",
        "    model.add(Activation('relu'))\n",
        "    model.add(BatchNormalization())\n",
        "\n",
        "    model.add(MaxPooling2D(pool_size=(2, 2),padding='same'))\n",
        "    model.add(Dropout(0.5))\n",
        "\n",
        "    model.add(Flatten())\n",
        "    model.add(Dense(256,kernel_regularizer=regularizers.l2(weight_decay), name='dense_1'))\n",
        "    model.add(Activation('relu'))\n",
        "    model.add(BatchNormalization())\n",
        "\n",
        "    model.add(Dropout(0.5))\n",
        "    model.add(Dense(10, name='dense_2'))\n",
        "    model.add(Activation('softmax'))\n",
        "    return model\n",
        "teacher = build_model()\n",
        "\n",
        "sgd = SGD(lr=learning_rate, decay=lr_decay, momentum=0.9, nesterov=True)\n",
        "\n",
        "teacher.compile(loss='categorical_crossentropy',optimizer=sgd, metrics=['accuracy'])\n"
      ],
      "execution_count": null,
      "outputs": []
    },
    {
      "cell_type": "code",
      "metadata": {
        "id": "mp4il80HMRFn"
      },
      "source": [
        "teacher.fit(X_train,Y_train,batch_size=128,epochs=150,verbose=1,callbacks=[reduce_lr],validation_data=(X_val,Y_val))"
      ],
      "execution_count": null,
      "outputs": []
    },
    {
      "cell_type": "code",
      "metadata": {
        "id": "ni98bXDhOi4w",
        "colab": {
          "base_uri": "https://localhost:8080/"
        },
        "outputId": "768f946d-e896-485f-c24f-33bcd905f934"
      },
      "source": [
        "from google.colab import drive\n",
        "drive.mount('/content/gdrive')\n",
        "\n",
        "path = F\"/content/gdrive/MyDrive/Cifar10/teacher_cifar10.h5\" \n",
        "teacher.load_weights(path)"
      ],
      "execution_count": null,
      "outputs": [
        {
          "output_type": "stream",
          "text": [
            "Drive already mounted at /content/gdrive; to attempt to forcibly remount, call drive.mount(\"/content/gdrive\", force_remount=True).\n"
          ],
          "name": "stdout"
        }
      ]
    },
    {
      "cell_type": "code",
      "metadata": {
        "colab": {
          "base_uri": "https://localhost:8080/"
        },
        "id": "zBZO-MXLmml_",
        "outputId": "29724a06-3910-4b69-8691-1d29fa7e6a6c"
      },
      "source": [
        "Y_test = np_utils.to_categorical(y_test, nb_classes)\n",
        "loss, acc =teacher.evaluate(X_test, y_test, verbose=1)\n",
        "loss, acc"
      ],
      "execution_count": null,
      "outputs": [
        {
          "output_type": "stream",
          "text": [
            "313/313 [==============================] - 36s 11ms/step - loss: 0.8109 - accuracy: 0.9023\n"
          ],
          "name": "stdout"
        },
        {
          "output_type": "execute_result",
          "data": {
            "text/plain": [
              "(0.8068325519561768, 0.901199996471405)"
            ]
          },
          "metadata": {
            "tags": []
          },
          "execution_count": 8
        }
      ]
    },
    {
      "cell_type": "code",
      "metadata": {
        "id": "bPVxVj6L_sCz"
      },
      "source": [
        "#Collect the dense vector from the previous layer output and store it in a different model\n",
        "teacher_WO_Softmax = Model(teacher.input, teacher.get_layer('dense_1').output)"
      ],
      "execution_count": null,
      "outputs": []
    },
    {
      "cell_type": "code",
      "metadata": {
        "id": "GhcEQ0Z-_scF"
      },
      "source": [
        "#Extracting dense representation from the teacher network\n",
        "train_dense = teacher_WO_Softmax.predict(X_train)\n",
        "val_dense = teacher_WO_Softmax.predict(X_val)"
      ],
      "execution_count": null,
      "outputs": []
    },
    {
      "cell_type": "code",
      "metadata": {
        "id": "XG0WGCpM_suF"
      },
      "source": [
        "#Splitting the training dense vector among N students(in this case 2)\n",
        "s1Train=train_dense[:,:64]\n",
        "s2Train=train_dense[:,64:128]\n",
        "s3Train=train_dense[:,128:192]\n",
        "s4Train=train_dense[:,192:]\n",
        "\n",
        "s1Val=val_dense[:,:64]\n",
        "s2Val=val_dense[:,64:128]\n",
        "s3Val=val_dense[:,128:192]\n",
        "s4Val=val_dense[:,192:]\n"
      ],
      "execution_count": null,
      "outputs": []
    },
    {
      "cell_type": "code",
      "metadata": {
        "id": "899mGHR-BGkh"
      },
      "source": [
        ""
      ],
      "execution_count": null,
      "outputs": []
    },
    {
      "cell_type": "code",
      "metadata": {
        "id": "MKx8VcoJxwH0"
      },
      "source": [
        "def define_model(name):\n",
        "  model2 = Sequential()\n",
        "  # model.add(Conv2D(32, (3, 3), activation='relu', input_shape=(32, 32, 3),name=name))\n",
        "  weight_decay = 1e-4\n",
        "  model2 = Sequential()\n",
        "  model2.add(Conv2D(32, (3,3), padding='same', input_shape=(32,32,3), name=name))\n",
        "  model2.add(Activation('elu'))\n",
        "  model2.add(BatchNormalization())\n",
        "  model2.add(Conv2D(32, (3,3), padding='same'))\n",
        "  model2.add(Activation('elu'))\n",
        "  model2.add(BatchNormalization())\n",
        "  model2.add(MaxPooling2D(pool_size=(2,2)))\n",
        "  model2.add(Dropout(0.2))\n",
        "\n",
        "  model2.add(Conv2D(64, (3,3), padding='same'))\n",
        "  model2.add(Activation('elu'))\n",
        "  model2.add(BatchNormalization())\n",
        "  model2.add(Conv2D(64, (3,3), padding='same'))\n",
        "  model2.add(Activation('elu'))\n",
        "  model2.add(BatchNormalization())\n",
        "  model2.add(MaxPooling2D(pool_size=(2,2)))\n",
        "  model2.add(Dropout(0.3))\n",
        "\n",
        "  model2.add(Flatten())\n",
        "  model2.add(Dense(16, activation='relu'))\n",
        "  model2.add(Dense(64, activation='relu',name='req'+name))\n",
        "\n",
        "  model2.compile(optimizer='adam', loss='mse', metrics=['accuracy'])\n",
        "  return model2\n",
        "\n"
      ],
      "execution_count": null,
      "outputs": []
    },
    {
      "cell_type": "code",
      "metadata": {
        "id": "5Bf51HQeYB19"
      },
      "source": [
        "# import np.random import random\n",
        "BATCH_SIZE=32\n",
        "def smooth_real_labels(y):\n",
        "    return y - 0.3+(np.random.random(y.shape)*0.5)\n",
        "def smooth_fake_labels(y):\n",
        "    return y + (0.3 * np.random.random(y.shape))\n",
        "def build_gan(gen,disc): \n",
        "    disc.trainable = False\n",
        "    input= Input(shape=input_shape)\n",
        "    output = gen(input)\n",
        "    output2= disc(output)\n",
        "    gan=Model(input,output2)\n",
        "\n",
        "    gan.compile('adam',loss=['binary_crossentropy','mse'],metrics=['accuracy'])\n",
        "\n",
        "    return gan"
      ],
      "execution_count": null,
      "outputs": []
    },
    {
      "cell_type": "code",
      "metadata": {
        "id": "7DN9rlsCXBHl"
      },
      "source": [
        "def build_sdiscriminator():\n",
        "    \n",
        "    input2 = Input(shape=(256,),name='input')\n",
        "    inp=Dense(128)(input2)\n",
        "\n",
        "    leaky_relu = LeakyReLU(alpha=0.2)(inp)\n",
        "    \n",
        "    conv3 = Dense(128,activation='relu')(leaky_relu)\n",
        "    b_n = BatchNormalization()(conv3)\n",
        "    # leaky_relu = LeakyReLU(alpha=0.2)(b_n)\n",
        "    conv3 = Dense(128,activation='relu')(leaky_relu)\n",
        "    b_n = BatchNormalization()(conv3)\n",
        "    # leaky_relu = LeakyReLU(alpha=0.2)(b_n)\n",
        "    conv3 = Dense(128,activation='relu')(b_n)\n",
        "    b_n = BatchNormalization()(conv3)\n",
        "    # leaky_relu = LeakyReLU(alpha=0.2)(b_n)\n",
        "    conv4 = Dense(256,activation='relu')(b_n)\n",
        "    b_n = BatchNormalization()(conv4)\n",
        "    # leaky_relu = LeakyReLU(alpha=0.2)(b_n)\n",
        "    conv4 = Dense(256,activation='relu')(b_n)\n",
        "    b_n = BatchNormalization()(conv4)\n",
        "    leaky_relu = LeakyReLU(alpha=0.2)(b_n)\n",
        "    conv4 = Dense(512)(leaky_relu)\n",
        "    b_n = BatchNormalization()(conv4)\n",
        "    leaky_relu = LeakyReLU(alpha=0.2)(b_n)\n",
        "    conv4 = Dense(512,activation='relu')(b_n)\n",
        "    b_n = BatchNormalization()(conv4)\n",
        "    leaky_relu = LeakyReLU(alpha=0.2)(b_n)\n",
        "    conv4 = Dense(1024)(leaky_relu)\n",
        "    b_n = BatchNormalization()(conv4)\n",
        "    leaky_relu = LeakyReLU(alpha=0.2)(b_n)\n",
        "\n",
        "    dense = Dense(1,activation='sigmoid')(b_n)\n",
        "\n",
        "    output2=Dense(256)(b_n)\n",
        "\n",
        "    \n",
        "    disc = Model(input2,[dense,output2])          \n",
        "    disc.compile(optd,loss=['binary_crossentropy','mse'],metrics=['accuracy'])\n",
        "\n",
        "\n",
        "    return disc"
      ],
      "execution_count": null,
      "outputs": []
    },
    {
      "cell_type": "code",
      "metadata": {
        "id": "HP0r1sO5ACHS"
      },
      "source": [
        "def training(generator,discriminator,gan,features,epo=20):\n",
        "    # Setup Models here\n",
        "    BATCH_SIZE = 128\n",
        "    discriminator.trainable = True\n",
        "    total_size = X_train.shape[0]\n",
        "    indices = np.arange(0,total_size ,BATCH_SIZE)\n",
        "    all_disc_loss = []\n",
        "    all_gen_loss = []\n",
        "    all_class_loss=[]\n",
        "    if total_size % BATCH_SIZE:\n",
        "        indices = indices[:-1]\n",
        "    for e in range(epo):\n",
        "        \n",
        "        progress_bar = Progbar(target=len(indices))\n",
        "        np.random.shuffle(indices)\n",
        "        epoch_gen_loss = []\n",
        "        epoch_disc_loss = []\n",
        "        epoch_class_loss= []\n",
        "        for i,index in enumerate(indices):\n",
        "        \n",
        "            # Write your code here\n",
        "            inputs=X_train[index:index+BATCH_SIZE]\n",
        "            real_image = features[index:index+BATCH_SIZE]\n",
        "            y_train = features[index:index+BATCH_SIZE]\n",
        "\n",
        "            y_real = np.ones((BATCH_SIZE,1))\n",
        "            y_fake = np.zeros((BATCH_SIZE,1))\n",
        "\n",
        "            #Generator Training\n",
        "            fake_images = generator.predict_on_batch(inputs)\n",
        "\n",
        "            #Disrciminator Training\n",
        "            disc_real_loss1,_,disc_real_loss2,_,_= discriminator.train_on_batch(real_image,[y_real,y_train])\n",
        "            disc_fake_loss1,_,disc_fake_loss2,_,_= discriminator.train_on_batch(fake_images,[y_fake,y_train])\n",
        "\n",
        "            #Gans Training\n",
        "            discriminator.trainable = False\n",
        "            gan_loss,_,gan_loss2,_,_ = gan.train_on_batch(inputs, [y_real,y_train])\n",
        "            gan_loss,_,gan_loss2,_,_ = gan.train_on_batch(inputs, [y_real,y_train])\n",
        "            gan_loss,_,gan_loss2,_,_ = gan.train_on_batch(inputs, [y_real,y_train])\n",
        "            gan_loss,_,gan_loss2,_,_ = gan.train_on_batch(inputs, [y_real,y_train])\n",
        "\n",
        "            discriminator.trainable = True\n",
        "\n",
        "            disc_loss = (disc_fake_loss1 + disc_real_loss1)/2\n",
        "            epoch_disc_loss.append(disc_loss)\n",
        "            progress_bar.update(i+1)\n",
        "\n",
        "            epoch_gen_loss.append((gan_loss))\n",
        "\n",
        "        avg_epoch_disc_loss = np.array(epoch_disc_loss).mean()\n",
        "        avg_epoch_gen_loss = np.array(epoch_gen_loss).mean()\n",
        "        all_disc_loss.append(avg_epoch_disc_loss)\n",
        "        all_gen_loss.append(avg_epoch_gen_loss)\n",
        "        print(\"Epoch: %d | Discriminator Loss: %f | Generator Loss: %f | \" % (e+1,avg_epoch_disc_loss,avg_epoch_gen_loss))\n",
        "\n",
        "    return generator"
      ],
      "execution_count": null,
      "outputs": []
    },
    {
      "cell_type": "markdown",
      "metadata": {
        "id": "DLVy1YMxrpVo"
      },
      "source": [
        "## 1 Student"
      ]
    },
    {
      "cell_type": "code",
      "metadata": {
        "colab": {
          "base_uri": "https://localhost:8080/"
        },
        "id": "fMuyg_3pACVM",
        "outputId": "4407b98d-4bd3-470a-f44a-d5e0d4b6852c"
      },
      "source": [
        "optd = Adam(lr=0.0002)\n",
        "opt = Adam(lr=0.0001)\n",
        "\n",
        "discriminator1 = build_sdiscriminator()\n",
        "s1=define_model(\"s1\")\n",
        "gan1 = build_gan(s1,discriminator1)\n",
        "s1 = training(s1,discriminator1,gan1,s1Train,epo=40)\n"
      ],
      "execution_count": null,
      "outputs": [
        {
          "output_type": "stream",
          "text": [
            "312/312 [==============================] - 41s 120ms/step\n",
            "Epoch: 1 | Discriminator Loss: 1.542770 | Generator Loss: 1.765076 | \n",
            "312/312 [==============================] - 38s 121ms/step\n",
            "Epoch: 2 | Discriminator Loss: 1.075580 | Generator Loss: 1.358143 | \n",
            "312/312 [==============================] - 38s 120ms/step\n",
            "Epoch: 3 | Discriminator Loss: 1.013295 | Generator Loss: 1.262494 | \n",
            "312/312 [==============================] - 38s 120ms/step\n",
            "Epoch: 4 | Discriminator Loss: 0.976509 | Generator Loss: 1.203966 | \n",
            "312/312 [==============================] - 38s 121ms/step\n",
            "Epoch: 5 | Discriminator Loss: 0.943853 | Generator Loss: 1.159379 | \n",
            "312/312 [==============================] - 38s 121ms/step\n",
            "Epoch: 6 | Discriminator Loss: 0.918019 | Generator Loss: 1.124000 | \n",
            "312/312 [==============================] - 38s 120ms/step\n",
            "Epoch: 7 | Discriminator Loss: 0.899429 | Generator Loss: 1.095573 | \n",
            "312/312 [==============================] - 38s 121ms/step\n",
            "Epoch: 8 | Discriminator Loss: 0.884652 | Generator Loss: 1.078823 | \n",
            "312/312 [==============================] - 38s 121ms/step\n",
            "Epoch: 9 | Discriminator Loss: 0.868407 | Generator Loss: 1.057162 | \n",
            "312/312 [==============================] - 38s 122ms/step\n",
            "Epoch: 10 | Discriminator Loss: 0.856908 | Generator Loss: 1.043314 | \n",
            "312/312 [==============================] - 38s 121ms/step\n",
            "Epoch: 11 | Discriminator Loss: 0.849810 | Generator Loss: 1.031319 | \n",
            "312/312 [==============================] - 38s 123ms/step\n",
            "Epoch: 12 | Discriminator Loss: 0.839243 | Generator Loss: 1.016754 | \n",
            "312/312 [==============================] - 38s 123ms/step\n",
            "Epoch: 13 | Discriminator Loss: 0.835669 | Generator Loss: 1.012251 | \n",
            "312/312 [==============================] - 38s 122ms/step\n",
            "Epoch: 14 | Discriminator Loss: 0.829252 | Generator Loss: 1.003298 | \n",
            "312/312 [==============================] - 38s 122ms/step\n",
            "Epoch: 15 | Discriminator Loss: 0.825374 | Generator Loss: 0.998585 | \n",
            "312/312 [==============================] - 38s 122ms/step\n",
            "Epoch: 16 | Discriminator Loss: 0.815596 | Generator Loss: 0.988427 | \n",
            "312/312 [==============================] - 38s 121ms/step\n",
            "Epoch: 17 | Discriminator Loss: 0.813963 | Generator Loss: 0.985435 | \n",
            "312/312 [==============================] - 38s 123ms/step\n",
            "Epoch: 18 | Discriminator Loss: 0.811229 | Generator Loss: 0.981788 | \n",
            "312/312 [==============================] - 38s 122ms/step\n",
            "Epoch: 19 | Discriminator Loss: 0.807402 | Generator Loss: 0.972608 | \n",
            "312/312 [==============================] - 38s 121ms/step\n",
            "Epoch: 20 | Discriminator Loss: 0.802558 | Generator Loss: 0.969797 | \n",
            "312/312 [==============================] - 38s 121ms/step\n",
            "Epoch: 21 | Discriminator Loss: 0.799906 | Generator Loss: 0.965737 | \n",
            "312/312 [==============================] - 38s 121ms/step\n",
            "Epoch: 22 | Discriminator Loss: 0.796813 | Generator Loss: 0.962240 | \n",
            "312/312 [==============================] - 38s 121ms/step\n",
            "Epoch: 23 | Discriminator Loss: 0.794629 | Generator Loss: 0.955108 | \n",
            "312/312 [==============================] - 38s 121ms/step\n",
            "Epoch: 24 | Discriminator Loss: 0.790176 | Generator Loss: 0.955783 | \n",
            "312/312 [==============================] - 38s 122ms/step\n",
            "Epoch: 25 | Discriminator Loss: 0.790338 | Generator Loss: 0.951497 | \n",
            "312/312 [==============================] - 38s 122ms/step\n",
            "Epoch: 26 | Discriminator Loss: 0.785725 | Generator Loss: 0.947680 | \n",
            "312/312 [==============================] - 38s 122ms/step\n",
            "Epoch: 27 | Discriminator Loss: 0.786138 | Generator Loss: 0.945610 | \n",
            "312/312 [==============================] - 38s 122ms/step\n",
            "Epoch: 28 | Discriminator Loss: 0.784604 | Generator Loss: 0.941497 | \n",
            "312/312 [==============================] - 38s 122ms/step\n",
            "Epoch: 29 | Discriminator Loss: 0.783514 | Generator Loss: 0.942954 | \n",
            "312/312 [==============================] - 38s 122ms/step\n",
            "Epoch: 30 | Discriminator Loss: 0.781123 | Generator Loss: 0.943051 | \n",
            "312/312 [==============================] - 38s 122ms/step\n",
            "Epoch: 31 | Discriminator Loss: 0.778627 | Generator Loss: 0.937047 | \n",
            "312/312 [==============================] - 38s 120ms/step\n",
            "Epoch: 32 | Discriminator Loss: 0.778398 | Generator Loss: 0.934541 | \n",
            "312/312 [==============================] - 38s 121ms/step\n",
            "Epoch: 33 | Discriminator Loss: 0.778826 | Generator Loss: 0.935354 | \n",
            "312/312 [==============================] - 38s 121ms/step\n",
            "Epoch: 34 | Discriminator Loss: 0.778000 | Generator Loss: 0.931748 | \n",
            "312/312 [==============================] - 38s 123ms/step\n",
            "Epoch: 35 | Discriminator Loss: 0.777669 | Generator Loss: 0.933332 | \n",
            "312/312 [==============================] - 38s 121ms/step\n",
            "Epoch: 36 | Discriminator Loss: 0.776150 | Generator Loss: 0.928918 | \n",
            "312/312 [==============================] - 38s 122ms/step\n",
            "Epoch: 37 | Discriminator Loss: 0.772980 | Generator Loss: 0.925238 | \n",
            "312/312 [==============================] - 38s 122ms/step\n",
            "Epoch: 38 | Discriminator Loss: 0.772441 | Generator Loss: 0.928663 | \n",
            "312/312 [==============================] - 38s 121ms/step\n",
            "Epoch: 39 | Discriminator Loss: 0.770368 | Generator Loss: 0.924879 | \n",
            "312/312 [==============================] - 38s 122ms/step\n",
            "Epoch: 40 | Discriminator Loss: 0.770013 | Generator Loss: 0.923373 | \n"
          ],
          "name": "stdout"
        }
      ]
    },
    {
      "cell_type": "code",
      "metadata": {
        "id": "9SF0whGaBMjz"
      },
      "source": [
        "o1=s1.get_layer(\"reqs1\").output\n",
        "\n",
        "output=Activation('relu')(o1)\n",
        "output2=Dropout(0.5)(output)\n",
        "output3=Dense(10,activation=\"softmax\", name=\"d1\")(output2)\n",
        "mm1=Model(s1.get_layer('s1').input, output3)\n",
        "my_weights=teacher.get_layer('dense_2').get_weights()\n",
        "\n",
        "# multi_model.summary()"
      ],
      "execution_count": null,
      "outputs": []
    },
    {
      "cell_type": "code",
      "metadata": {
        "colab": {
          "base_uri": "https://localhost:8080/"
        },
        "id": "e7gP-upUPA7C",
        "outputId": "3b266062-f7fc-46b0-994e-0624a1f90e56"
      },
      "source": [
        "mm1.summary()"
      ],
      "execution_count": null,
      "outputs": [
        {
          "output_type": "stream",
          "text": [
            "Model: \"model_13\"\n",
            "_________________________________________________________________\n",
            "Layer (type)                 Output Shape              Param #   \n",
            "=================================================================\n",
            "s1_input (InputLayer)        [(None, 32, 32, 3)]       0         \n",
            "_________________________________________________________________\n",
            "s1 (Conv2D)                  (None, 32, 32, 32)        896       \n",
            "_________________________________________________________________\n",
            "activation_29 (Activation)   (None, 32, 32, 32)        0         \n",
            "_________________________________________________________________\n",
            "batch_normalization_56 (Batc (None, 32, 32, 32)        128       \n",
            "_________________________________________________________________\n",
            "conv2d_52 (Conv2D)           (None, 32, 32, 32)        9248      \n",
            "_________________________________________________________________\n",
            "activation_30 (Activation)   (None, 32, 32, 32)        0         \n",
            "_________________________________________________________________\n",
            "batch_normalization_57 (Batc (None, 32, 32, 32)        128       \n",
            "_________________________________________________________________\n",
            "max_pooling2d_31 (MaxPooling (None, 16, 16, 32)        0         \n",
            "_________________________________________________________________\n",
            "dropout_39 (Dropout)         (None, 16, 16, 32)        0         \n",
            "_________________________________________________________________\n",
            "conv2d_53 (Conv2D)           (None, 16, 16, 64)        18496     \n",
            "_________________________________________________________________\n",
            "activation_31 (Activation)   (None, 16, 16, 64)        0         \n",
            "_________________________________________________________________\n",
            "batch_normalization_58 (Batc (None, 16, 16, 64)        256       \n",
            "_________________________________________________________________\n",
            "conv2d_54 (Conv2D)           (None, 16, 16, 64)        36928     \n",
            "_________________________________________________________________\n",
            "activation_32 (Activation)   (None, 16, 16, 64)        0         \n",
            "_________________________________________________________________\n",
            "batch_normalization_59 (Batc (None, 16, 16, 64)        256       \n",
            "_________________________________________________________________\n",
            "max_pooling2d_32 (MaxPooling (None, 8, 8, 64)          0         \n",
            "_________________________________________________________________\n",
            "dropout_40 (Dropout)         (None, 8, 8, 64)          0         \n",
            "_________________________________________________________________\n",
            "flatten_11 (Flatten)         (None, 4096)              0         \n",
            "_________________________________________________________________\n",
            "dense_53 (Dense)             (None, 16)                65552     \n",
            "_________________________________________________________________\n",
            "reqs1 (Dense)                (None, 256)               4352      \n",
            "_________________________________________________________________\n",
            "activation_33 (Activation)   (None, 256)               0         \n",
            "_________________________________________________________________\n",
            "dropout_41 (Dropout)         (None, 256)               0         \n",
            "_________________________________________________________________\n",
            "d1 (Dense)                   (None, 10)                2570      \n",
            "=================================================================\n",
            "Total params: 138,810\n",
            "Trainable params: 138,426\n",
            "Non-trainable params: 384\n",
            "_________________________________________________________________\n"
          ],
          "name": "stdout"
        }
      ]
    },
    {
      "cell_type": "code",
      "metadata": {
        "id": "rw_XLiVWBmij"
      },
      "source": [
        "#assigning the extracted weights as a starting point to the combined student network\n",
        "mm1.get_layer('d1').set_weights(my_weights)"
      ],
      "execution_count": null,
      "outputs": []
    },
    {
      "cell_type": "code",
      "metadata": {
        "id": "aa1YEvef3nhi"
      },
      "source": [
        "i=0\n",
        "for l in mm1.layers[:len(mm1.layers)-2]:\n",
        "    l.trainable=False\n",
        "#     print(l)"
      ],
      "execution_count": null,
      "outputs": []
    },
    {
      "cell_type": "code",
      "metadata": {
        "id": "u2Ys_A3GBvqi"
      },
      "source": [
        "mm1.compile(loss='categorical_crossentropy',\n",
        "              optimizer='rmsprop',\n",
        "              metrics=['accuracy'])"
      ],
      "execution_count": null,
      "outputs": []
    },
    {
      "cell_type": "code",
      "metadata": {
        "colab": {
          "base_uri": "https://localhost:8080/"
        },
        "id": "da5xVGuhOKww",
        "outputId": "966955f9-bf0b-439b-c541-d1fcc209165b"
      },
      "source": [
        "# With finetune\n",
        "batch_size = 256\n",
        "mm_history=mm1.fit(X_train, Y_train,\n",
        "          batch_size=batch_size,\n",
        "          epochs=20,\n",
        "          verbose=1,\n",
        "          validation_data=(X_val, Y_val))"
      ],
      "execution_count": null,
      "outputs": [
        {
          "output_type": "stream",
          "text": [
            "Epoch 1/20\n",
            "157/157 [==============================] - 3s 15ms/step - loss: 0.4683 - accuracy: 0.8850 - val_loss: 0.6904 - val_accuracy: 0.8104\n",
            "Epoch 2/20\n",
            "157/157 [==============================] - 2s 13ms/step - loss: 0.4727 - accuracy: 0.8849 - val_loss: 0.6912 - val_accuracy: 0.8098\n",
            "Epoch 3/20\n",
            "157/157 [==============================] - 2s 13ms/step - loss: 0.4806 - accuracy: 0.8804 - val_loss: 0.6943 - val_accuracy: 0.8073\n",
            "Epoch 4/20\n",
            "157/157 [==============================] - 2s 13ms/step - loss: 0.4821 - accuracy: 0.8809 - val_loss: 0.6937 - val_accuracy: 0.8084\n",
            "Epoch 5/20\n",
            "157/157 [==============================] - 2s 13ms/step - loss: 0.4890 - accuracy: 0.8778 - val_loss: 0.6972 - val_accuracy: 0.8090\n",
            "Epoch 6/20\n",
            "157/157 [==============================] - 2s 13ms/step - loss: 0.4842 - accuracy: 0.8788 - val_loss: 0.6973 - val_accuracy: 0.8111\n",
            "Epoch 7/20\n",
            "157/157 [==============================] - 2s 13ms/step - loss: 0.4686 - accuracy: 0.8804 - val_loss: 0.6971 - val_accuracy: 0.8098\n",
            "Epoch 8/20\n",
            "157/157 [==============================] - 2s 12ms/step - loss: 0.4779 - accuracy: 0.8841 - val_loss: 0.7018 - val_accuracy: 0.8096\n",
            "Epoch 9/20\n",
            "157/157 [==============================] - 2s 12ms/step - loss: 0.4746 - accuracy: 0.8846 - val_loss: 0.6992 - val_accuracy: 0.8108\n",
            "Epoch 10/20\n",
            "157/157 [==============================] - 2s 12ms/step - loss: 0.4731 - accuracy: 0.8803 - val_loss: 0.7049 - val_accuracy: 0.8081\n",
            "Epoch 11/20\n",
            "157/157 [==============================] - 2s 12ms/step - loss: 0.4737 - accuracy: 0.8862 - val_loss: 0.7023 - val_accuracy: 0.8097\n",
            "Epoch 12/20\n",
            "157/157 [==============================] - 2s 13ms/step - loss: 0.4774 - accuracy: 0.8801 - val_loss: 0.7059 - val_accuracy: 0.8092\n",
            "Epoch 13/20\n",
            "157/157 [==============================] - 2s 13ms/step - loss: 0.4735 - accuracy: 0.8860 - val_loss: 0.7007 - val_accuracy: 0.8102\n",
            "Epoch 14/20\n",
            "157/157 [==============================] - 2s 13ms/step - loss: 0.4795 - accuracy: 0.8821 - val_loss: 0.7036 - val_accuracy: 0.8082\n",
            "Epoch 15/20\n",
            "157/157 [==============================] - 2s 13ms/step - loss: 0.4870 - accuracy: 0.8823 - val_loss: 0.7057 - val_accuracy: 0.8096\n",
            "Epoch 16/20\n",
            "157/157 [==============================] - 2s 13ms/step - loss: 0.4891 - accuracy: 0.8804 - val_loss: 0.7043 - val_accuracy: 0.8094\n",
            "Epoch 17/20\n",
            "157/157 [==============================] - 2s 13ms/step - loss: 0.4668 - accuracy: 0.8876 - val_loss: 0.7080 - val_accuracy: 0.8079\n",
            "Epoch 18/20\n",
            "157/157 [==============================] - 2s 13ms/step - loss: 0.4775 - accuracy: 0.8825 - val_loss: 0.7064 - val_accuracy: 0.8087\n",
            "Epoch 19/20\n",
            "157/157 [==============================] - 2s 12ms/step - loss: 0.4713 - accuracy: 0.8820 - val_loss: 0.7052 - val_accuracy: 0.8089\n",
            "Epoch 20/20\n",
            "157/157 [==============================] - 2s 12ms/step - loss: 0.4861 - accuracy: 0.8834 - val_loss: 0.7069 - val_accuracy: 0.8073\n"
          ],
          "name": "stdout"
        }
      ]
    },
    {
      "cell_type": "code",
      "metadata": {
        "id": "hVMLsA0LBnSD",
        "colab": {
          "base_uri": "https://localhost:8080/"
        },
        "outputId": "35ac6134-f955-4f63-a7d5-0863df8b751a"
      },
      "source": [
        "batch_size = 256\n",
        "mm_history=mm1.fit(X_train, Y_train,\n",
        "          batch_size=batch_size,\n",
        "          epochs=10,\n",
        "          verbose=1,\n",
        "          validation_data=(X_val, Y_val))"
      ],
      "execution_count": null,
      "outputs": [
        {
          "output_type": "stream",
          "text": [
            "Epoch 1/10\n",
            "157/157 [==============================] - 4s 23ms/step - loss: 0.3923 - accuracy: 0.8772 - val_loss: 0.5692 - val_accuracy: 0.8131\n",
            "Epoch 2/10\n",
            "157/157 [==============================] - 3s 21ms/step - loss: 0.3871 - accuracy: 0.8774 - val_loss: 0.5692 - val_accuracy: 0.8124\n",
            "Epoch 3/10\n",
            "157/157 [==============================] - 3s 21ms/step - loss: 0.3712 - accuracy: 0.8831 - val_loss: 0.5640 - val_accuracy: 0.8168\n",
            "Epoch 4/10\n",
            "157/157 [==============================] - 3s 21ms/step - loss: 0.3817 - accuracy: 0.8779 - val_loss: 0.5621 - val_accuracy: 0.8160\n",
            "Epoch 5/10\n",
            "157/157 [==============================] - 3s 21ms/step - loss: 0.3645 - accuracy: 0.8834 - val_loss: 0.5649 - val_accuracy: 0.8161\n",
            "Epoch 6/10\n",
            "157/157 [==============================] - 3s 21ms/step - loss: 0.3558 - accuracy: 0.8868 - val_loss: 0.5637 - val_accuracy: 0.8194\n",
            "Epoch 7/10\n",
            "157/157 [==============================] - 3s 21ms/step - loss: 0.3688 - accuracy: 0.8823 - val_loss: 0.5706 - val_accuracy: 0.8139\n",
            "Epoch 8/10\n",
            "157/157 [==============================] - 3s 21ms/step - loss: 0.3596 - accuracy: 0.8838 - val_loss: 0.5676 - val_accuracy: 0.8147\n",
            "Epoch 9/10\n",
            "157/157 [==============================] - 3s 21ms/step - loss: 0.3608 - accuracy: 0.8862 - val_loss: 0.5679 - val_accuracy: 0.8155\n",
            "Epoch 10/10\n",
            "157/157 [==============================] - 3s 21ms/step - loss: 0.3584 - accuracy: 0.8874 - val_loss: 0.5666 - val_accuracy: 0.8157\n"
          ],
          "name": "stdout"
        }
      ]
    },
    {
      "cell_type": "code",
      "metadata": {
        "id": "G7SsTY8acE59",
        "colab": {
          "base_uri": "https://localhost:8080/"
        },
        "outputId": "2bbd61b6-a960-4d12-fd51-070aa7da0d19"
      },
      "source": [
        "l,a = mm1.evaluate(X_test, y_test)\n",
        "l, a"
      ],
      "execution_count": null,
      "outputs": [
        {
          "output_type": "stream",
          "text": [
            "313/313 [==============================] - 1s 4ms/step - loss: 6.3232 - accuracy: 0.2305\n"
          ],
          "name": "stdout"
        },
        {
          "output_type": "execute_result",
          "data": {
            "text/plain": [
              "(6.2697248458862305, 0.2273000031709671)"
            ]
          },
          "metadata": {
            "tags": []
          },
          "execution_count": 22
        }
      ]
    },
    {
      "cell_type": "code",
      "metadata": {
        "id": "7_RLuLLV4Rry",
        "colab": {
          "base_uri": "https://localhost:8080/",
          "height": 573
        },
        "outputId": "e5a04232-5568-4ff5-db2a-77d6a7fe2a64"
      },
      "source": [
        "import matplotlib.pyplot as plt\n",
        "plt.plot(mm_history.history['accuracy'])\n",
        "plt.plot(mm_history.history['val_accuracy'])\n",
        "plt.title('model accuracy')\n",
        "plt.ylabel('accuracy')\n",
        "plt.xlabel('epoch')\n",
        "plt.legend(['train', 'test'], loc='upper left')\n",
        "plt.show()\n",
        "# summarize history for loss\n",
        "plt.plot(mm_history.history['loss'])\n",
        "plt.plot(mm_history.history['val_loss'])\n",
        "plt.title('model loss')\n",
        "plt.ylabel('loss')\n",
        "plt.xlabel('epoch')\n",
        "plt.legend(['train', 'test'], loc='upper left')\n",
        "plt.show()"
      ],
      "execution_count": null,
      "outputs": [
        {
          "output_type": "display_data",
          "data": {
            "image/png": "[encoded data removed]",
            "text/plain": [
              "<Figure size 432x288 with 1 Axes>"
            ]
          },
          "metadata": {
            "tags": [],
            "needs_background": "light"
          }
        },
        {
          "output_type": "display_data",
          "data": {
            "image/png": "[encoded data removed]",
            "text/plain": [
              "<Figure size 432x288 with 1 Axes>"
            ]
          },
          "metadata": {
            "tags": [],
            "needs_background": "light"
          }
        }
      ]
    },
    {
      "cell_type": "markdown",
      "metadata": {
        "id": "IQlldHWBPJMn"
      },
      "source": [
        "## **2 Students**"
      ]
    },
    {
      "cell_type": "code",
      "metadata": {
        "colab": {
          "base_uri": "https://localhost:8080/"
        },
        "id": "X7m6SoOWPNDH",
        "outputId": "66c8ec20-ab25-4556-d101-0c96724b84c1"
      },
      "source": [
        "optd = Adam(lr=0.0002)\n",
        "opt = Adam(lr=0.0001)\n",
        "\n",
        "discriminator1 = build_sdiscriminator()\n",
        "discriminator2 = build_sdiscriminator()\n",
        "s1=define_model(\"s1\")\n",
        "s2=define_model(\"s2\")\n",
        "\n",
        "gan1 = build_gan(s1,discriminator1)\n",
        "gan2 = build_gan(s2,discriminator2)\n",
        "s1 = training(s1,discriminator1,gan1,s1Train,epo=90)\n",
        "s2 = training(s2,discriminator2,gan2,s2Train,epo=98)"
      ],
      "execution_count": null,
      "outputs": [
        {
          "output_type": "stream",
          "text": [
            "312/312 [==============================] - 35s 105ms/step\n",
            "Epoch: 1 | Discriminator Loss: 1.721610 | Generator Loss: 2.085339 | \n",
            "312/312 [==============================] - 32s 104ms/step\n",
            "Epoch: 2 | Discriminator Loss: 1.270868 | Generator Loss: 1.898533 | \n",
            "312/312 [==============================] - 32s 104ms/step\n",
            "Epoch: 3 | Discriminator Loss: 1.150123 | Generator Loss: 1.700116 | \n",
            "312/312 [==============================] - 32s 102ms/step\n",
            "Epoch: 4 | Discriminator Loss: 1.071535 | Generator Loss: 1.570838 | \n",
            "312/312 [==============================] - 31s 100ms/step\n",
            "Epoch: 5 | Discriminator Loss: 1.033438 | Generator Loss: 1.504226 | \n",
            "312/312 [==============================] - 31s 101ms/step\n",
            "Epoch: 6 | Discriminator Loss: 1.007410 | Generator Loss: 1.470378 | \n",
            "312/312 [==============================] - 33s 104ms/step\n",
            "Epoch: 7 | Discriminator Loss: 0.990217 | Generator Loss: 1.444702 | \n",
            "312/312 [==============================] - 33s 105ms/step\n",
            "Epoch: 8 | Discriminator Loss: 0.973856 | Generator Loss: 1.412147 | \n",
            "312/312 [==============================] - 33s 105ms/step\n",
            "Epoch: 9 | Discriminator Loss: 0.960481 | Generator Loss: 1.393940 | \n",
            "312/312 [==============================] - 33s 105ms/step\n",
            "Epoch: 10 | Discriminator Loss: 0.948107 | Generator Loss: 1.369202 | \n",
            "312/312 [==============================] - 33s 105ms/step\n",
            "Epoch: 11 | Discriminator Loss: 0.935014 | Generator Loss: 1.362547 | \n",
            "312/312 [==============================] - 32s 104ms/step\n",
            "Epoch: 12 | Discriminator Loss: 0.925133 | Generator Loss: 1.338956 | \n",
            "312/312 [==============================] - 31s 100ms/step\n",
            "Epoch: 13 | Discriminator Loss: 0.913871 | Generator Loss: 1.336104 | \n",
            "312/312 [==============================] - 31s 98ms/step\n",
            "Epoch: 14 | Discriminator Loss: 0.905422 | Generator Loss: 1.321923 | \n",
            "312/312 [==============================] - 31s 98ms/step\n",
            "Epoch: 15 | Discriminator Loss: 0.897327 | Generator Loss: 1.313741 | \n",
            "312/312 [==============================] - 32s 104ms/step\n",
            "Epoch: 16 | Discriminator Loss: 0.890248 | Generator Loss: 1.305873 | \n",
            "312/312 [==============================] - 33s 105ms/step\n",
            "Epoch: 17 | Discriminator Loss: 0.883429 | Generator Loss: 1.303500 | \n",
            "312/312 [==============================] - 31s 99ms/step\n",
            "Epoch: 18 | Discriminator Loss: 0.875950 | Generator Loss: 1.289418 | \n",
            "312/312 [==============================] - 31s 101ms/step\n",
            "Epoch: 19 | Discriminator Loss: 0.871461 | Generator Loss: 1.278960 | \n",
            "312/312 [==============================] - 32s 101ms/step\n",
            "Epoch: 20 | Discriminator Loss: 0.865849 | Generator Loss: 1.267245 | \n",
            "312/312 [==============================] - 31s 100ms/step\n",
            "Epoch: 21 | Discriminator Loss: 0.861539 | Generator Loss: 1.258151 | \n",
            "312/312 [==============================] - 32s 101ms/step\n",
            "Epoch: 22 | Discriminator Loss: 0.855612 | Generator Loss: 1.254082 | \n",
            "312/312 [==============================] - 31s 100ms/step\n",
            "Epoch: 23 | Discriminator Loss: 0.851108 | Generator Loss: 1.252578 | \n",
            "312/312 [==============================] - 31s 99ms/step\n",
            "Epoch: 24 | Discriminator Loss: 0.847751 | Generator Loss: 1.252790 | \n",
            "312/312 [==============================] - 32s 103ms/step\n",
            "Epoch: 25 | Discriminator Loss: 0.843161 | Generator Loss: 1.243920 | \n",
            "312/312 [==============================] - 33s 105ms/step\n",
            "Epoch: 26 | Discriminator Loss: 0.838712 | Generator Loss: 1.237905 | \n",
            "312/312 [==============================] - 33s 106ms/step\n",
            "Epoch: 27 | Discriminator Loss: 0.835463 | Generator Loss: 1.238056 | \n",
            "312/312 [==============================] - 33s 104ms/step\n",
            "Epoch: 28 | Discriminator Loss: 0.833218 | Generator Loss: 1.233950 | \n",
            "312/312 [==============================] - 33s 106ms/step\n",
            "Epoch: 29 | Discriminator Loss: 0.829329 | Generator Loss: 1.230928 | \n",
            "312/312 [==============================] - 33s 106ms/step\n",
            "Epoch: 30 | Discriminator Loss: 0.826463 | Generator Loss: 1.226345 | \n",
            "312/312 [==============================] - 32s 103ms/step\n",
            "Epoch: 31 | Discriminator Loss: 0.823506 | Generator Loss: 1.231076 | \n",
            "312/312 [==============================] - 31s 99ms/step\n",
            "Epoch: 32 | Discriminator Loss: 0.820491 | Generator Loss: 1.212733 | \n",
            "312/312 [==============================] - 31s 101ms/step\n",
            "Epoch: 33 | Discriminator Loss: 0.818502 | Generator Loss: 1.211771 | \n",
            "312/312 [==============================] - 32s 101ms/step\n",
            "Epoch: 34 | Discriminator Loss: 0.814360 | Generator Loss: 1.196245 | \n",
            "312/312 [==============================] - 33s 105ms/step\n",
            "Epoch: 35 | Discriminator Loss: 0.811041 | Generator Loss: 1.188303 | \n",
            "312/312 [==============================] - 33s 107ms/step\n",
            "Epoch: 36 | Discriminator Loss: 0.809608 | Generator Loss: 1.180314 | \n",
            "312/312 [==============================] - 33s 105ms/step\n",
            "Epoch: 37 | Discriminator Loss: 0.807196 | Generator Loss: 1.170031 | \n",
            "312/312 [==============================] - 33s 105ms/step\n",
            "Epoch: 38 | Discriminator Loss: 0.805454 | Generator Loss: 1.163197 | \n",
            "312/312 [==============================] - 33s 106ms/step\n",
            "Epoch: 39 | Discriminator Loss: 0.802852 | Generator Loss: 1.153709 | \n",
            "312/312 [==============================] - 31s 101ms/step\n",
            "Epoch: 40 | Discriminator Loss: 0.800403 | Generator Loss: 1.150453 | \n",
            "312/312 [==============================] - 32s 102ms/step\n",
            "Epoch: 41 | Discriminator Loss: 0.797861 | Generator Loss: 1.140438 | \n",
            "312/312 [==============================] - 32s 104ms/step\n",
            "Epoch: 42 | Discriminator Loss: 0.795975 | Generator Loss: 1.130550 | \n",
            "312/312 [==============================] - 33s 105ms/step\n",
            "Epoch: 43 | Discriminator Loss: 0.794759 | Generator Loss: 1.121250 | \n",
            "312/312 [==============================] - 33s 106ms/step\n",
            "Epoch: 44 | Discriminator Loss: 0.792107 | Generator Loss: 1.120302 | \n",
            "312/312 [==============================] - 33s 106ms/step\n",
            "Epoch: 45 | Discriminator Loss: 0.791056 | Generator Loss: 1.112978 | \n",
            "312/312 [==============================] - 33s 107ms/step\n",
            "Epoch: 46 | Discriminator Loss: 0.788999 | Generator Loss: 1.109069 | \n",
            "312/312 [==============================] - 33s 106ms/step\n",
            "Epoch: 47 | Discriminator Loss: 0.787251 | Generator Loss: 1.101936 | \n",
            "312/312 [==============================] - 33s 106ms/step\n",
            "Epoch: 48 | Discriminator Loss: 0.786094 | Generator Loss: 1.093921 | \n",
            "312/312 [==============================] - 33s 105ms/step\n",
            "Epoch: 49 | Discriminator Loss: 0.785307 | Generator Loss: 1.097354 | \n",
            "312/312 [==============================] - 32s 101ms/step\n",
            "Epoch: 50 | Discriminator Loss: 0.782985 | Generator Loss: 1.092618 | \n",
            "312/312 [==============================] - 32s 104ms/step\n",
            "Epoch: 51 | Discriminator Loss: 0.781575 | Generator Loss: 1.083220 | \n",
            "312/312 [==============================] - 33s 105ms/step\n",
            "Epoch: 52 | Discriminator Loss: 0.780476 | Generator Loss: 1.083398 | \n",
            "312/312 [==============================] - 32s 103ms/step\n",
            "Epoch: 53 | Discriminator Loss: 0.778695 | Generator Loss: 1.084248 | \n",
            "312/312 [==============================] - 31s 99ms/step\n",
            "Epoch: 54 | Discriminator Loss: 0.778436 | Generator Loss: 1.082533 | \n",
            "312/312 [==============================] - 31s 101ms/step\n",
            "Epoch: 55 | Discriminator Loss: 0.776882 | Generator Loss: 1.083695 | \n",
            "312/312 [==============================] - 31s 100ms/step\n",
            "Epoch: 56 | Discriminator Loss: 0.775090 | Generator Loss: 1.077882 | \n",
            "312/312 [==============================] - 32s 104ms/step\n",
            "Epoch: 57 | Discriminator Loss: 0.774485 | Generator Loss: 1.079470 | \n",
            "312/312 [==============================] - 33s 106ms/step\n",
            "Epoch: 58 | Discriminator Loss: 0.773498 | Generator Loss: 1.075120 | \n",
            "312/312 [==============================] - 33s 106ms/step\n",
            "Epoch: 59 | Discriminator Loss: 0.772142 | Generator Loss: 1.067686 | \n",
            "312/312 [==============================] - 33s 105ms/step\n",
            "Epoch: 60 | Discriminator Loss: 0.771493 | Generator Loss: 1.068668 | \n",
            "312/312 [==============================] - 33s 105ms/step\n",
            "Epoch: 61 | Discriminator Loss: 0.770861 | Generator Loss: 1.066635 | \n",
            "312/312 [==============================] - 33s 106ms/step\n",
            "Epoch: 62 | Discriminator Loss: 0.769968 | Generator Loss: 1.065116 | \n",
            "312/312 [==============================] - 32s 104ms/step\n",
            "Epoch: 63 | Discriminator Loss: 0.768552 | Generator Loss: 1.064675 | \n",
            "312/312 [==============================] - 33s 107ms/step\n",
            "Epoch: 64 | Discriminator Loss: 0.767434 | Generator Loss: 1.058949 | \n",
            "312/312 [==============================] - 33s 106ms/step\n",
            "Epoch: 65 | Discriminator Loss: 0.767031 | Generator Loss: 1.056110 | \n",
            "312/312 [==============================] - 33s 106ms/step\n",
            "Epoch: 66 | Discriminator Loss: 0.765927 | Generator Loss: 1.053810 | \n",
            "312/312 [==============================] - 32s 101ms/step\n",
            "Epoch: 67 | Discriminator Loss: 0.764938 | Generator Loss: 1.053666 | \n",
            "312/312 [==============================] - 32s 101ms/step\n",
            "Epoch: 68 | Discriminator Loss: 0.764017 | Generator Loss: 1.051430 | \n",
            "312/312 [==============================] - 32s 102ms/step\n",
            "Epoch: 69 | Discriminator Loss: 0.763151 | Generator Loss: 1.051500 | \n",
            "312/312 [==============================] - 32s 103ms/step\n",
            "Epoch: 70 | Discriminator Loss: 0.763360 | Generator Loss: 1.056658 | \n",
            "312/312 [==============================] - 32s 102ms/step\n",
            "Epoch: 71 | Discriminator Loss: 0.762294 | Generator Loss: 1.051726 | \n",
            "312/312 [==============================] - 33s 104ms/step\n",
            "Epoch: 72 | Discriminator Loss: 0.761224 | Generator Loss: 1.045284 | \n",
            "312/312 [==============================] - 33s 106ms/step\n",
            "Epoch: 73 | Discriminator Loss: 0.761055 | Generator Loss: 1.047892 | \n",
            "312/312 [==============================] - 33s 107ms/step\n",
            "Epoch: 74 | Discriminator Loss: 0.760026 | Generator Loss: 1.045162 | \n",
            "312/312 [==============================] - 33s 106ms/step\n",
            "Epoch: 75 | Discriminator Loss: 0.760066 | Generator Loss: 1.038961 | \n",
            "312/312 [==============================] - 33s 106ms/step\n",
            "Epoch: 76 | Discriminator Loss: 0.758848 | Generator Loss: 1.035281 | \n",
            "312/312 [==============================] - 33s 105ms/step\n",
            "Epoch: 77 | Discriminator Loss: 0.758472 | Generator Loss: 1.036560 | \n",
            "312/312 [==============================] - 33s 105ms/step\n",
            "Epoch: 78 | Discriminator Loss: 0.757946 | Generator Loss: 1.039379 | \n",
            "312/312 [==============================] - 32s 103ms/step\n",
            "Epoch: 79 | Discriminator Loss: 0.756961 | Generator Loss: 1.031692 | \n",
            "312/312 [==============================] - 31s 100ms/step\n",
            "Epoch: 80 | Discriminator Loss: 0.756827 | Generator Loss: 1.027301 | \n",
            "312/312 [==============================] - 32s 104ms/step\n",
            "Epoch: 81 | Discriminator Loss: 0.756668 | Generator Loss: 1.030964 | \n",
            "312/312 [==============================] - 33s 104ms/step\n",
            "Epoch: 82 | Discriminator Loss: 0.756634 | Generator Loss: 1.028888 | \n",
            "312/312 [==============================] - 33s 107ms/step\n",
            "Epoch: 83 | Discriminator Loss: 0.755416 | Generator Loss: 1.025062 | \n",
            "312/312 [==============================] - 33s 107ms/step\n",
            "Epoch: 84 | Discriminator Loss: 0.755410 | Generator Loss: 1.023304 | \n",
            "312/312 [==============================] - 33s 105ms/step\n",
            "Epoch: 85 | Discriminator Loss: 0.753943 | Generator Loss: 1.023679 | \n",
            "312/312 [==============================] - 33s 106ms/step\n",
            "Epoch: 86 | Discriminator Loss: 0.753820 | Generator Loss: 1.016477 | \n",
            "312/312 [==============================] - 31s 100ms/step\n",
            "Epoch: 87 | Discriminator Loss: 0.753075 | Generator Loss: 1.021878 | \n",
            "312/312 [==============================] - 31s 101ms/step\n",
            "Epoch: 88 | Discriminator Loss: 0.752461 | Generator Loss: 1.020713 | \n",
            "312/312 [==============================] - 32s 103ms/step\n",
            "Epoch: 89 | Discriminator Loss: 0.752408 | Generator Loss: 1.011799 | \n",
            "312/312 [==============================] - 33s 106ms/step\n",
            "Epoch: 90 | Discriminator Loss: 0.752418 | Generator Loss: 1.014723 | \n",
            "312/312 [==============================] - 35s 106ms/step\n",
            "Epoch: 1 | Discriminator Loss: 1.421877 | Generator Loss: 1.923388 | \n",
            "312/312 [==============================] - 33s 105ms/step\n",
            "Epoch: 2 | Discriminator Loss: 1.167452 | Generator Loss: 1.707264 | \n",
            "312/312 [==============================] - 33s 106ms/step\n",
            "Epoch: 3 | Discriminator Loss: 1.067676 | Generator Loss: 1.538373 | \n",
            "312/312 [==============================] - 33s 106ms/step\n",
            "Epoch: 4 | Discriminator Loss: 1.011523 | Generator Loss: 1.429179 | \n",
            "312/312 [==============================] - 33s 106ms/step\n",
            "Epoch: 5 | Discriminator Loss: 0.976373 | Generator Loss: 1.360665 | \n",
            "312/312 [==============================] - 33s 106ms/step\n",
            "Epoch: 6 | Discriminator Loss: 0.952217 | Generator Loss: 1.318082 | \n",
            "312/312 [==============================] - 33s 105ms/step\n",
            "Epoch: 7 | Discriminator Loss: 0.933055 | Generator Loss: 1.283526 | \n",
            "312/312 [==============================] - 33s 106ms/step\n",
            "Epoch: 8 | Discriminator Loss: 0.916675 | Generator Loss: 1.265948 | \n",
            "312/312 [==============================] - 33s 106ms/step\n",
            "Epoch: 9 | Discriminator Loss: 0.903608 | Generator Loss: 1.242761 | \n",
            "312/312 [==============================] - 33s 106ms/step\n",
            "Epoch: 10 | Discriminator Loss: 0.891142 | Generator Loss: 1.222894 | \n",
            "312/312 [==============================] - 33s 107ms/step\n",
            "Epoch: 11 | Discriminator Loss: 0.880140 | Generator Loss: 1.202919 | \n",
            "312/312 [==============================] - 33s 106ms/step\n",
            "Epoch: 12 | Discriminator Loss: 0.871015 | Generator Loss: 1.188837 | \n",
            "312/312 [==============================] - 33s 104ms/step\n",
            "Epoch: 13 | Discriminator Loss: 0.861124 | Generator Loss: 1.169571 | \n",
            "312/312 [==============================] - 33s 107ms/step\n",
            "Epoch: 14 | Discriminator Loss: 0.852907 | Generator Loss: 1.159761 | \n",
            "312/312 [==============================] - 33s 106ms/step\n",
            "Epoch: 15 | Discriminator Loss: 0.845760 | Generator Loss: 1.143036 | \n",
            "312/312 [==============================] - 32s 104ms/step\n",
            "Epoch: 16 | Discriminator Loss: 0.839999 | Generator Loss: 1.131179 | \n",
            "312/312 [==============================] - 32s 102ms/step\n",
            "Epoch: 17 | Discriminator Loss: 0.833738 | Generator Loss: 1.120680 | \n",
            "312/312 [==============================] - 33s 104ms/step\n",
            "Epoch: 18 | Discriminator Loss: 0.828016 | Generator Loss: 1.119149 | \n",
            "312/312 [==============================] - 33s 106ms/step\n",
            "Epoch: 19 | Discriminator Loss: 0.823522 | Generator Loss: 1.111674 | \n",
            "312/312 [==============================] - 32s 102ms/step\n",
            "Epoch: 20 | Discriminator Loss: 0.818712 | Generator Loss: 1.104287 | \n",
            "312/312 [==============================] - 32s 101ms/step\n",
            "Epoch: 21 | Discriminator Loss: 0.815098 | Generator Loss: 1.099488 | \n",
            "312/312 [==============================] - 33s 105ms/step\n",
            "Epoch: 22 | Discriminator Loss: 0.811762 | Generator Loss: 1.100548 | \n",
            "312/312 [==============================] - 33s 105ms/step\n",
            "Epoch: 23 | Discriminator Loss: 0.808123 | Generator Loss: 1.087485 | \n",
            "312/312 [==============================] - 33s 107ms/step\n",
            "Epoch: 24 | Discriminator Loss: 0.804225 | Generator Loss: 1.082114 | \n",
            "312/312 [==============================] - 33s 106ms/step\n",
            "Epoch: 25 | Discriminator Loss: 0.800776 | Generator Loss: 1.078955 | \n",
            "312/312 [==============================] - 32s 104ms/step\n",
            "Epoch: 26 | Discriminator Loss: 0.797910 | Generator Loss: 1.075507 | \n",
            "312/312 [==============================] - 32s 101ms/step\n",
            "Epoch: 27 | Discriminator Loss: 0.795624 | Generator Loss: 1.070779 | \n",
            "312/312 [==============================] - 32s 102ms/step\n",
            "Epoch: 28 | Discriminator Loss: 0.793827 | Generator Loss: 1.068432 | \n",
            "312/312 [==============================] - 33s 107ms/step\n",
            "Epoch: 29 | Discriminator Loss: 0.790281 | Generator Loss: 1.060384 | \n",
            "312/312 [==============================] - 32s 102ms/step\n",
            "Epoch: 30 | Discriminator Loss: 0.788287 | Generator Loss: 1.061445 | \n",
            "312/312 [==============================] - 32s 103ms/step\n",
            "Epoch: 31 | Discriminator Loss: 0.786756 | Generator Loss: 1.054763 | \n",
            "312/312 [==============================] - 33s 106ms/step\n",
            "Epoch: 32 | Discriminator Loss: 0.785556 | Generator Loss: 1.054575 | \n",
            "312/312 [==============================] - 34s 108ms/step\n",
            "Epoch: 33 | Discriminator Loss: 0.783522 | Generator Loss: 1.040902 | \n",
            "312/312 [==============================] - 33s 107ms/step\n",
            "Epoch: 34 | Discriminator Loss: 0.781035 | Generator Loss: 1.042657 | \n",
            "312/312 [==============================] - 33s 107ms/step\n",
            "Epoch: 35 | Discriminator Loss: 0.779099 | Generator Loss: 1.035226 | \n",
            "312/312 [==============================] - 33s 106ms/step\n",
            "Epoch: 36 | Discriminator Loss: 0.777409 | Generator Loss: 1.037365 | \n",
            "312/312 [==============================] - 33s 107ms/step\n",
            "Epoch: 37 | Discriminator Loss: 0.775857 | Generator Loss: 1.032398 | \n",
            "312/312 [==============================] - 33s 107ms/step\n",
            "Epoch: 38 | Discriminator Loss: 0.775321 | Generator Loss: 1.031677 | \n",
            "312/312 [==============================] - 33s 105ms/step\n",
            "Epoch: 39 | Discriminator Loss: 0.772070 | Generator Loss: 1.027510 | \n",
            "312/312 [==============================] - 33s 104ms/step\n",
            "Epoch: 40 | Discriminator Loss: 0.771378 | Generator Loss: 1.022886 | \n",
            "312/312 [==============================] - 34s 108ms/step\n",
            "Epoch: 41 | Discriminator Loss: 0.769549 | Generator Loss: 1.019748 | \n",
            "312/312 [==============================] - 34s 108ms/step\n",
            "Epoch: 42 | Discriminator Loss: 0.769171 | Generator Loss: 1.018932 | \n",
            "312/312 [==============================] - 33s 106ms/step\n",
            "Epoch: 43 | Discriminator Loss: 0.768220 | Generator Loss: 1.014408 | \n",
            "312/312 [==============================] - 33s 107ms/step\n",
            "Epoch: 44 | Discriminator Loss: 0.766211 | Generator Loss: 1.012008 | \n",
            "312/312 [==============================] - 33s 106ms/step\n",
            "Epoch: 45 | Discriminator Loss: 0.766292 | Generator Loss: 1.009718 | \n",
            "312/312 [==============================] - 32s 104ms/step\n",
            "Epoch: 46 | Discriminator Loss: 0.765209 | Generator Loss: 1.008428 | \n",
            "312/312 [==============================] - 33s 105ms/step\n",
            "Epoch: 47 | Discriminator Loss: 0.764332 | Generator Loss: 1.007900 | \n",
            "312/312 [==============================] - 33s 107ms/step\n",
            "Epoch: 48 | Discriminator Loss: 0.763300 | Generator Loss: 1.008241 | \n",
            "312/312 [==============================] - 33s 106ms/step\n",
            "Epoch: 49 | Discriminator Loss: 0.762515 | Generator Loss: 1.002442 | \n",
            "312/312 [==============================] - 33s 107ms/step\n",
            "Epoch: 50 | Discriminator Loss: 0.761451 | Generator Loss: 0.999928 | \n",
            "312/312 [==============================] - 34s 107ms/step\n",
            "Epoch: 51 | Discriminator Loss: 0.760833 | Generator Loss: 0.997283 | \n",
            "312/312 [==============================] - 33s 106ms/step\n",
            "Epoch: 52 | Discriminator Loss: 0.760338 | Generator Loss: 1.001336 | \n",
            "312/312 [==============================] - 33s 106ms/step\n",
            "Epoch: 53 | Discriminator Loss: 0.759093 | Generator Loss: 0.995875 | \n",
            "312/312 [==============================] - 32s 101ms/step\n",
            "Epoch: 54 | Discriminator Loss: 0.758123 | Generator Loss: 0.998741 | \n",
            "312/312 [==============================] - 32s 102ms/step\n",
            "Epoch: 55 | Discriminator Loss: 0.757759 | Generator Loss: 0.994615 | \n",
            "312/312 [==============================] - 32s 101ms/step\n",
            "Epoch: 56 | Discriminator Loss: 0.757163 | Generator Loss: 0.992551 | \n",
            "312/312 [==============================] - 32s 101ms/step\n",
            "Epoch: 57 | Discriminator Loss: 0.756410 | Generator Loss: 0.988926 | \n",
            "312/312 [==============================] - 32s 101ms/step\n",
            "Epoch: 58 | Discriminator Loss: 0.755607 | Generator Loss: 0.984793 | \n",
            "312/312 [==============================] - 32s 102ms/step\n",
            "Epoch: 59 | Discriminator Loss: 0.754647 | Generator Loss: 0.981994 | \n",
            "312/312 [==============================] - 32s 104ms/step\n",
            "Epoch: 60 | Discriminator Loss: 0.754521 | Generator Loss: 0.986292 | \n",
            "312/312 [==============================] - 33s 106ms/step\n",
            "Epoch: 61 | Discriminator Loss: 0.753777 | Generator Loss: 0.984386 | \n",
            "312/312 [==============================] - 33s 107ms/step\n",
            "Epoch: 62 | Discriminator Loss: 0.753224 | Generator Loss: 0.979231 | \n",
            "312/312 [==============================] - 33s 107ms/step\n",
            "Epoch: 63 | Discriminator Loss: 0.752842 | Generator Loss: 0.977298 | \n",
            "312/312 [==============================] - 33s 107ms/step\n",
            "Epoch: 64 | Discriminator Loss: 0.753001 | Generator Loss: 0.975588 | \n",
            "312/312 [==============================] - 33s 107ms/step\n",
            "Epoch: 65 | Discriminator Loss: 0.752568 | Generator Loss: 0.972918 | \n",
            "312/312 [==============================] - 33s 105ms/step\n",
            "Epoch: 66 | Discriminator Loss: 0.752519 | Generator Loss: 0.975127 | \n",
            "312/312 [==============================] - 32s 104ms/step\n",
            "Epoch: 67 | Discriminator Loss: 0.751549 | Generator Loss: 0.975853 | \n",
            "312/312 [==============================] - 33s 106ms/step\n",
            "Epoch: 68 | Discriminator Loss: 0.751522 | Generator Loss: 0.973968 | \n",
            "312/312 [==============================] - 32s 103ms/step\n",
            "Epoch: 69 | Discriminator Loss: 0.751251 | Generator Loss: 0.973866 | \n",
            "312/312 [==============================] - 33s 105ms/step\n",
            "Epoch: 70 | Discriminator Loss: 0.750254 | Generator Loss: 0.969960 | \n",
            "312/312 [==============================] - 33s 106ms/step\n",
            "Epoch: 71 | Discriminator Loss: 0.750217 | Generator Loss: 0.968908 | \n",
            "312/312 [==============================] - 33s 105ms/step\n",
            "Epoch: 72 | Discriminator Loss: 0.749942 | Generator Loss: 0.970249 | \n",
            "312/312 [==============================] - 33s 106ms/step\n",
            "Epoch: 73 | Discriminator Loss: 0.749736 | Generator Loss: 0.968277 | \n",
            "312/312 [==============================] - 33s 107ms/step\n",
            "Epoch: 74 | Discriminator Loss: 0.750071 | Generator Loss: 0.973640 | \n",
            "312/312 [==============================] - 33s 107ms/step\n",
            "Epoch: 75 | Discriminator Loss: 0.748878 | Generator Loss: 0.971381 | \n",
            "312/312 [==============================] - 33s 107ms/step\n",
            "Epoch: 76 | Discriminator Loss: 0.749036 | Generator Loss: 0.972211 | \n",
            "312/312 [==============================] - 33s 107ms/step\n",
            "Epoch: 77 | Discriminator Loss: 0.748583 | Generator Loss: 0.974956 | \n",
            "312/312 [==============================] - 33s 106ms/step\n",
            "Epoch: 78 | Discriminator Loss: 0.748407 | Generator Loss: 0.979725 | \n",
            "312/312 [==============================] - 34s 108ms/step\n",
            "Epoch: 79 | Discriminator Loss: 0.748814 | Generator Loss: 0.979551 | \n",
            "312/312 [==============================] - 33s 107ms/step\n",
            "Epoch: 80 | Discriminator Loss: 0.748447 | Generator Loss: 0.976782 | \n",
            "312/312 [==============================] - 33s 106ms/step\n",
            "Epoch: 81 | Discriminator Loss: 0.748286 | Generator Loss: 0.979566 | \n",
            "312/312 [==============================] - 33s 107ms/step\n",
            "Epoch: 82 | Discriminator Loss: 0.747993 | Generator Loss: 0.978490 | \n",
            "312/312 [==============================] - 32s 102ms/step\n",
            "Epoch: 83 | Discriminator Loss: 0.747292 | Generator Loss: 0.978403 | \n",
            "312/312 [==============================] - 33s 105ms/step\n",
            "Epoch: 84 | Discriminator Loss: 0.747393 | Generator Loss: 0.971401 | \n",
            "312/312 [==============================] - 33s 107ms/step\n",
            "Epoch: 85 | Discriminator Loss: 0.747167 | Generator Loss: 0.973379 | \n",
            "312/312 [==============================] - 34s 107ms/step\n",
            "Epoch: 86 | Discriminator Loss: 0.746317 | Generator Loss: 0.968027 | \n",
            "312/312 [==============================] - 33s 107ms/step\n",
            "Epoch: 87 | Discriminator Loss: 0.746034 | Generator Loss: 0.962846 | \n",
            "312/312 [==============================] - 34s 108ms/step\n",
            "Epoch: 88 | Discriminator Loss: 0.745929 | Generator Loss: 0.963387 | \n",
            "312/312 [==============================] - 33s 107ms/step\n",
            "Epoch: 89 | Discriminator Loss: 0.746205 | Generator Loss: 0.962095 | \n",
            "312/312 [==============================] - 32s 104ms/step\n",
            "Epoch: 90 | Discriminator Loss: 0.746279 | Generator Loss: 0.967670 | \n",
            "312/312 [==============================] - 33s 106ms/step\n",
            "Epoch: 91 | Discriminator Loss: 0.745842 | Generator Loss: 0.966583 | \n",
            "312/312 [==============================] - 33s 106ms/step\n",
            "Epoch: 92 | Discriminator Loss: 0.745952 | Generator Loss: 0.962387 | \n",
            "312/312 [==============================] - 33s 107ms/step\n",
            "Epoch: 93 | Discriminator Loss: 0.745199 | Generator Loss: 0.965217 | \n",
            "312/312 [==============================] - 33s 107ms/step\n",
            "Epoch: 94 | Discriminator Loss: 0.745288 | Generator Loss: 0.962118 | \n",
            "312/312 [==============================] - 34s 107ms/step\n",
            "Epoch: 95 | Discriminator Loss: 0.745199 | Generator Loss: 0.960272 | \n",
            "312/312 [==============================] - 33s 106ms/step\n",
            "Epoch: 96 | Discriminator Loss: 0.745128 | Generator Loss: 0.963027 | \n",
            "312/312 [==============================] - 34s 107ms/step\n",
            "Epoch: 97 | Discriminator Loss: 0.744794 | Generator Loss: 0.957659 | \n",
            "312/312 [==============================] - 34s 108ms/step\n",
            "Epoch: 98 | Discriminator Loss: 0.744087 | Generator Loss: 0.959186 | \n"
          ],
          "name": "stdout"
        }
      ]
    },
    {
      "cell_type": "code",
      "metadata": {
        "id": "4-tJFSFYPXuH"
      },
      "source": [
        ""
      ],
      "execution_count": null,
      "outputs": []
    },
    {
      "cell_type": "code",
      "metadata": {
        "id": "R8dmofSbg5ko"
      },
      "source": [
        "o1=s1.get_layer(\"reqs1\").output\n",
        "o2=s2.get_layer(\"reqs2\").output\n",
        "output=tensorflow.keras.layers.concatenate([o1,o2])\n",
        "\n",
        "output=Activation('relu')(output)\n",
        "output2=Dropout(0.5)(output) # For reguralization\n",
        "output3=Dense(10,activation=\"softmax\", name=\"d1\")(output2)\n",
        "\n",
        "mm2=Model([s1.get_layer(\"s1\").input,s2.get_layer(\"s2\").input], output3)\n",
        "my_weights=teacher.get_layer('dense_2').get_weights()\n",
        "mm2.get_layer('d1').set_weights(my_weights)"
      ],
      "execution_count": null,
      "outputs": []
    },
    {
      "cell_type": "code",
      "metadata": {
        "id": "NaSX8xHNg5kx"
      },
      "source": [
        "i=0\n",
        "for l in mm1.layers[:len(mm1.layers)-2]:\n",
        "    l.trainable=False\n",
        "#     print(l)"
      ],
      "execution_count": null,
      "outputs": []
    },
    {
      "cell_type": "code",
      "metadata": {
        "id": "fLz1Oz6dg5ky"
      },
      "source": [
        "mm2.compile(loss='categorical_crossentropy',\n",
        "              optimizer=Adam(learning_rate=0.0002),\n",
        "              metrics=['accuracy'])"
      ],
      "execution_count": null,
      "outputs": []
    },
    {
      "cell_type": "code",
      "metadata": {
        "colab": {
          "base_uri": "https://localhost:8080/"
        },
        "id": "bylsRHBzg5kz",
        "outputId": "c574387e-f8e6-47e1-8aac-13675af7cbf5"
      },
      "source": [
        "# Without finetune\n",
        "batch_size = 256\n",
        "mm2_history=mm2.fit([X_train,X_train], Y_train,\n",
        "          batch_size=batch_size,\n",
        "          epochs=20,\n",
        "          verbose=1,\n",
        "          validation_data=([X_val,X_val], Y_val))"
      ],
      "execution_count": null,
      "outputs": [
        {
          "output_type": "stream",
          "text": [
            "Epoch 1/20\n",
            "157/157 [==============================] - 7s 41ms/step - loss: 6.7863 - accuracy: 0.1538 - val_loss: 1.5426 - val_accuracy: 0.4709\n",
            "Epoch 2/20\n",
            "157/157 [==============================] - 6s 38ms/step - loss: 3.4946 - accuracy: 0.2587 - val_loss: 1.0291 - val_accuracy: 0.6581\n",
            "Epoch 3/20\n",
            "157/157 [==============================] - 6s 38ms/step - loss: 2.4642 - accuracy: 0.3928 - val_loss: 0.7782 - val_accuracy: 0.7586\n",
            "Epoch 4/20\n",
            "157/157 [==============================] - 6s 38ms/step - loss: 1.7563 - accuracy: 0.5479 - val_loss: 0.7103 - val_accuracy: 0.7918\n",
            "Epoch 5/20\n",
            "157/157 [==============================] - 6s 37ms/step - loss: 1.3238 - accuracy: 0.6563 - val_loss: 0.6853 - val_accuracy: 0.8058\n",
            "Epoch 6/20\n",
            "157/157 [==============================] - 6s 37ms/step - loss: 1.0844 - accuracy: 0.7187 - val_loss: 0.6877 - val_accuracy: 0.8131\n",
            "Epoch 7/20\n",
            "157/157 [==============================] - 6s 37ms/step - loss: 0.9413 - accuracy: 0.7565 - val_loss: 0.6834 - val_accuracy: 0.8173\n",
            "Epoch 8/20\n",
            "157/157 [==============================] - 6s 37ms/step - loss: 0.8410 - accuracy: 0.7808 - val_loss: 0.6942 - val_accuracy: 0.8172\n",
            "Epoch 9/20\n",
            "157/157 [==============================] - 6s 37ms/step - loss: 0.7659 - accuracy: 0.7987 - val_loss: 0.6930 - val_accuracy: 0.8183\n",
            "Epoch 10/20\n",
            "157/157 [==============================] - 6s 37ms/step - loss: 0.7074 - accuracy: 0.8148 - val_loss: 0.6845 - val_accuracy: 0.8189\n",
            "Epoch 11/20\n",
            "157/157 [==============================] - 6s 37ms/step - loss: 0.6895 - accuracy: 0.8184 - val_loss: 0.6884 - val_accuracy: 0.8201\n",
            "Epoch 12/20\n",
            "157/157 [==============================] - 6s 37ms/step - loss: 0.6252 - accuracy: 0.8342 - val_loss: 0.6623 - val_accuracy: 0.8226\n",
            "Epoch 13/20\n",
            "157/157 [==============================] - 6s 37ms/step - loss: 0.6126 - accuracy: 0.8372 - val_loss: 0.6669 - val_accuracy: 0.8246\n",
            "Epoch 14/20\n",
            "157/157 [==============================] - 6s 37ms/step - loss: 0.5590 - accuracy: 0.8469 - val_loss: 0.6585 - val_accuracy: 0.8257\n",
            "Epoch 15/20\n",
            "157/157 [==============================] - 6s 38ms/step - loss: 0.5349 - accuracy: 0.8548 - val_loss: 0.6548 - val_accuracy: 0.8255\n",
            "Epoch 16/20\n",
            "157/157 [==============================] - 6s 37ms/step - loss: 0.5183 - accuracy: 0.8559 - val_loss: 0.6659 - val_accuracy: 0.8224\n",
            "Epoch 17/20\n",
            "157/157 [==============================] - 6s 38ms/step - loss: 0.5058 - accuracy: 0.8613 - val_loss: 0.6492 - val_accuracy: 0.8224\n",
            "Epoch 18/20\n",
            "157/157 [==============================] - 6s 38ms/step - loss: 0.4753 - accuracy: 0.8643 - val_loss: 0.6393 - val_accuracy: 0.8244\n",
            "Epoch 19/20\n",
            "157/157 [==============================] - 6s 38ms/step - loss: 0.4690 - accuracy: 0.8671 - val_loss: 0.6519 - val_accuracy: 0.8256\n",
            "Epoch 20/20\n",
            "157/157 [==============================] - 6s 37ms/step - loss: 0.4420 - accuracy: 0.8760 - val_loss: 0.6356 - val_accuracy: 0.8255\n"
          ],
          "name": "stdout"
        }
      ]
    },
    {
      "cell_type": "code",
      "metadata": {
        "colab": {
          "base_uri": "https://localhost:8080/"
        },
        "id": "IqFAAug_hqBz",
        "outputId": "1037a8ce-9d5e-44fe-f80f-157f8177c8d3"
      },
      "source": [
        "l,a = mm2.evaluate([X_test,X_test], y_test)\n",
        "l, a"
      ],
      "execution_count": null,
      "outputs": [
        {
          "output_type": "stream",
          "text": [
            "313/313 [==============================] - 1s 3ms/step - loss: 0.6564 - accuracy: 0.8250\n"
          ],
          "name": "stdout"
        },
        {
          "output_type": "execute_result",
          "data": {
            "text/plain": [
              "(0.656421422958374, 0.824999988079071)"
            ]
          },
          "metadata": {
            "tags": []
          },
          "execution_count": 73
        }
      ]
    },
    {
      "cell_type": "code",
      "metadata": {
        "colab": {
          "base_uri": "https://localhost:8080/",
          "height": 573
        },
        "id": "Jt5_Vmlwh3r5",
        "outputId": "a250b98a-78c3-482f-c5b9-ebcf7a1be0bf"
      },
      "source": [
        "import matplotlib.pyplot as plt\n",
        "plt.plot(mm2_history.history['accuracy'])\n",
        "plt.plot(mm2_history.history['val_accuracy'])\n",
        "plt.title('model accuracy')\n",
        "plt.ylabel('accuracy')\n",
        "plt.xlabel('epoch')\n",
        "plt.legend(['train', 'test'], loc='upper left')\n",
        "plt.show()\n",
        "# summarize history for loss\n",
        "plt.plot(mm2_history.history['loss'])\n",
        "plt.plot(mm2_history.history['val_loss'])\n",
        "plt.title('model loss')\n",
        "plt.ylabel('loss')\n",
        "plt.xlabel('epoch')\n",
        "plt.legend(['train', 'test'], loc='upper left')\n",
        "plt.show()"
      ],
      "execution_count": null,
      "outputs": [
        {
          "output_type": "display_data",
          "data": {
            "image/png": "[encoded data removed]",
            "text/plain": [
              "<Figure size 432x288 with 1 Axes>"
            ]
          },
          "metadata": {
            "tags": [],
            "needs_background": "light"
          }
        },
        {
          "output_type": "display_data",
          "data": {
            "image/png": "[encoded data removed]",
            "text/plain": [
              "<Figure size 432x288 with 1 Axes>"
            ]
          },
          "metadata": {
            "tags": [],
            "needs_background": "light"
          }
        }
      ]
    },
    {
      "cell_type": "code",
      "metadata": {
        "colab": {
          "base_uri": "https://localhost:8080/",
          "height": 352
        },
        "id": "_GhF7HRpg5k1",
        "outputId": "25d84950-1e9c-45a6-e1a3-4356d8a8a7e8"
      },
      "source": [
        "o1=s1.get_layer(\"reqs1\").output\n",
        "o2=s2.get_layer(\"reqs2\").output\n",
        "output=tensorflow.keras.layers.concatenate([o1,o2])\n",
        "\n",
        "output=Activation('relu')(output)\n",
        "output2=Dropout(0.5)(output) # For reguralization\n",
        "output3=Dense(10,activation=\"softmax\", name=\"d1\")(output2)\n",
        "\n",
        "mm22=Model([s1.get_layer(\"s1\").input,s2.get_layer(\"s2\").input], output3)\n",
        "my_weights=teacher.get_layer('dense_2').get_weights()\n",
        "mm22.get_layer('d1').set_weights(my_weights)\n",
        "\n",
        "i=0\n",
        "for l in mm22.layers[:len(mm22.layers)-2]:\n",
        "    l.trainable=False\n",
        "#     print(l)\n",
        "\n",
        "# With finetune\n",
        "batch_size = 256\n",
        "mm22_history=mm22.fit([X_train,X_train], Y_train,\n",
        "          batch_size=batch_size,\n",
        "          epochs=10,\n",
        "          verbose=1,\n",
        "          validation_data=([X_val,X_val], Y_val))"
      ],
      "execution_count": null,
      "outputs": [
        {
          "output_type": "error",
          "ename": "RuntimeError",
          "evalue": "ignored",
          "traceback": [
            "\u001b[0;31m---------------------------------------------------------------------------\u001b[0m",
            "\u001b[0;31mRuntimeError\u001b[0m                              Traceback (most recent call last)",
            "\u001b[0;32m<ipython-input-75-6740b5936a46>\u001b[0m in \u001b[0;36m<module>\u001b[0;34m()\u001b[0m\n\u001b[1;32m     22\u001b[0m           \u001b[0mepochs\u001b[0m\u001b[0;34m=\u001b[0m\u001b[0;36m10\u001b[0m\u001b[0;34m,\u001b[0m\u001b[0;34m\u001b[0m\u001b[0;34m\u001b[0m\u001b[0m\n\u001b[1;32m     23\u001b[0m           \u001b[0mverbose\u001b[0m\u001b[0;34m=\u001b[0m\u001b[0;36m1\u001b[0m\u001b[0;34m,\u001b[0m\u001b[0;34m\u001b[0m\u001b[0;34m\u001b[0m\u001b[0m\n\u001b[0;32m---> 24\u001b[0;31m           validation_data=([X_val,X_val], Y_val))\n\u001b[0m",
            "\u001b[0;32m/usr/local/lib/python3.7/dist-packages/tensorflow/python/keras/engine/training.py\u001b[0m in \u001b[0;36mfit\u001b[0;34m(self, x, y, batch_size, epochs, verbose, callbacks, validation_split, validation_data, shuffle, class_weight, sample_weight, initial_epoch, steps_per_epoch, validation_steps, validation_batch_size, validation_freq, max_queue_size, workers, use_multiprocessing)\u001b[0m\n\u001b[1;32m   1030\u001b[0m     \u001b[0;31m# Legacy graph support is contained in `training_v1.Model`.\u001b[0m\u001b[0;34m\u001b[0m\u001b[0;34m\u001b[0m\u001b[0;34m\u001b[0m\u001b[0m\n\u001b[1;32m   1031\u001b[0m     \u001b[0mversion_utils\u001b[0m\u001b[0;34m.\u001b[0m\u001b[0mdisallow_legacy_graph\u001b[0m\u001b[0;34m(\u001b[0m\u001b[0;34m'Model'\u001b[0m\u001b[0;34m,\u001b[0m \u001b[0;34m'fit'\u001b[0m\u001b[0;34m)\u001b[0m\u001b[0;34m\u001b[0m\u001b[0;34m\u001b[0m\u001b[0m\n\u001b[0;32m-> 1032\u001b[0;31m     \u001b[0mself\u001b[0m\u001b[0;34m.\u001b[0m\u001b[0m_assert_compile_was_called\u001b[0m\u001b[0;34m(\u001b[0m\u001b[0;34m)\u001b[0m\u001b[0;34m\u001b[0m\u001b[0;34m\u001b[0m\u001b[0m\n\u001b[0m\u001b[1;32m   1033\u001b[0m     \u001b[0mself\u001b[0m\u001b[0;34m.\u001b[0m\u001b[0m_check_call_args\u001b[0m\u001b[0;34m(\u001b[0m\u001b[0;34m'fit'\u001b[0m\u001b[0;34m)\u001b[0m\u001b[0;34m\u001b[0m\u001b[0;34m\u001b[0m\u001b[0m\n\u001b[1;32m   1034\u001b[0m     \u001b[0m_disallow_inside_tf_function\u001b[0m\u001b[0;34m(\u001b[0m\u001b[0;34m'fit'\u001b[0m\u001b[0;34m)\u001b[0m\u001b[0;34m\u001b[0m\u001b[0;34m\u001b[0m\u001b[0m\n",
            "\u001b[0;32m/usr/local/lib/python3.7/dist-packages/tensorflow/python/keras/engine/training.py\u001b[0m in \u001b[0;36m_assert_compile_was_called\u001b[0;34m(self)\u001b[0m\n\u001b[1;32m   2590\u001b[0m     \u001b[0;31m# (i.e. whether the model is built and its inputs/outputs are set).\u001b[0m\u001b[0;34m\u001b[0m\u001b[0;34m\u001b[0m\u001b[0;34m\u001b[0m\u001b[0m\n\u001b[1;32m   2591\u001b[0m     \u001b[0;32mif\u001b[0m \u001b[0;32mnot\u001b[0m \u001b[0mself\u001b[0m\u001b[0;34m.\u001b[0m\u001b[0m_is_compiled\u001b[0m\u001b[0;34m:\u001b[0m\u001b[0;34m\u001b[0m\u001b[0;34m\u001b[0m\u001b[0m\n\u001b[0;32m-> 2592\u001b[0;31m       raise RuntimeError('You must compile your model before '\n\u001b[0m\u001b[1;32m   2593\u001b[0m                          \u001b[0;34m'training/testing. '\u001b[0m\u001b[0;34m\u001b[0m\u001b[0;34m\u001b[0m\u001b[0m\n\u001b[1;32m   2594\u001b[0m                          'Use `model.compile(optimizer, loss)`.')\n",
            "\u001b[0;31mRuntimeError\u001b[0m: You must compile your model before training/testing. Use `model.compile(optimizer, loss)`."
          ]
        }
      ]
    },
    {
      "cell_type": "code",
      "metadata": {
        "id": "SrzzCaYThyGp"
      },
      "source": [
        "l,a = mm22.evaluate([X_test,X_test], y_test)\n",
        "l, a"
      ],
      "execution_count": null,
      "outputs": []
    },
    {
      "cell_type": "code",
      "metadata": {
        "id": "K3n0VzZlg5k3"
      },
      "source": [
        "import matplotlib.pyplot as plt\n",
        "plt.plot(mm22_history.history['accuracy'])\n",
        "plt.plot(mm22_history.history['val_accuracy'])\n",
        "plt.title('model accuracy')\n",
        "plt.ylabel('accuracy')\n",
        "plt.xlabel('epoch')\n",
        "plt.legend(['train', 'test'], loc='upper left')\n",
        "plt.show()\n",
        "# summarize history for loss\n",
        "plt.plot(mm22_history.history['loss'])\n",
        "plt.plot(mm22_history.history['val_loss'])\n",
        "plt.title('model loss')\n",
        "plt.ylabel('loss')\n",
        "plt.xlabel('epoch')\n",
        "plt.legend(['train', 'test'], loc='upper left')\n",
        "plt.show()"
      ],
      "execution_count": null,
      "outputs": []
    },
    {
      "cell_type": "code",
      "metadata": {
        "id": "oPpx-XYoh7hY"
      },
      "source": [
        ""
      ],
      "execution_count": null,
      "outputs": []
    },
    {
      "cell_type": "code",
      "metadata": {
        "id": "adrP-2NKruHh"
      },
      "source": [
        ""
      ],
      "execution_count": null,
      "outputs": []
    },
    {
      "cell_type": "markdown",
      "metadata": {
        "id": "rJ0WYj8Krwas"
      },
      "source": [
        "# TCN"
      ]
    },
    {
      "cell_type": "markdown",
      "metadata": {
        "id": "rQ1z088Hxo8N"
      },
      "source": [
        "## 1 Student"
      ]
    },
    {
      "cell_type": "code",
      "metadata": {
        "id": "s5qA8beir1d_"
      },
      "source": [
        "s1 = define_model('s1')\n"
      ],
      "execution_count": null,
      "outputs": []
    },
    {
      "cell_type": "code",
      "metadata": {
        "colab": {
          "base_uri": "https://localhost:8080/"
        },
        "id": "VnzUMRLvrzEz",
        "outputId": "c8843461-6eb2-4009-9845-66db89166d6e"
      },
      "source": [
        "history1=s1.fit(X_train,s1Train,\n",
        "          batch_size=256,\n",
        "          epochs=50,\n",
        "          verbose=1,\n",
        "          validation_data=(X_val,s1Val))"
      ],
      "execution_count": null,
      "outputs": [
        {
          "output_type": "stream",
          "text": [
            "Epoch 1/50\n",
            "157/157 [==============================] - 6s 29ms/step - loss: 1.6353 - accuracy: 0.0023 - val_loss: 1.6285 - val_accuracy: 0.0252\n",
            "Epoch 2/50\n",
            "157/157 [==============================] - 4s 27ms/step - loss: 1.5201 - accuracy: 0.0628 - val_loss: 1.5394 - val_accuracy: 0.1115\n",
            "Epoch 3/50\n",
            "157/157 [==============================] - 4s 27ms/step - loss: 1.4852 - accuracy: 0.1268 - val_loss: 1.4893 - val_accuracy: 0.1277\n",
            "Epoch 4/50\n",
            "157/157 [==============================] - 4s 27ms/step - loss: 1.4500 - accuracy: 0.1403 - val_loss: 1.4284 - val_accuracy: 0.1380\n",
            "Epoch 5/50\n",
            "157/157 [==============================] - 4s 27ms/step - loss: 1.4113 - accuracy: 0.1404 - val_loss: 1.4023 - val_accuracy: 0.1422\n",
            "Epoch 6/50\n",
            "157/157 [==============================] - 4s 27ms/step - loss: 1.3917 - accuracy: 0.1400 - val_loss: 1.4059 - val_accuracy: 0.1441\n",
            "Epoch 7/50\n",
            "157/157 [==============================] - 4s 27ms/step - loss: 1.3786 - accuracy: 0.1554 - val_loss: 1.3812 - val_accuracy: 0.1492\n",
            "Epoch 8/50\n",
            "157/157 [==============================] - 4s 27ms/step - loss: 1.3657 - accuracy: 0.1557 - val_loss: 1.3739 - val_accuracy: 0.1419\n",
            "Epoch 9/50\n",
            "157/157 [==============================] - 4s 27ms/step - loss: 1.3607 - accuracy: 0.1547 - val_loss: 1.3569 - val_accuracy: 0.1573\n",
            "Epoch 10/50\n",
            "157/157 [==============================] - 4s 27ms/step - loss: 1.3257 - accuracy: 0.2036 - val_loss: 1.3208 - val_accuracy: 0.2035\n",
            "Epoch 11/50\n",
            "157/157 [==============================] - 4s 27ms/step - loss: 1.3045 - accuracy: 0.2124 - val_loss: 1.3153 - val_accuracy: 0.2177\n",
            "Epoch 12/50\n",
            "157/157 [==============================] - 4s 27ms/step - loss: 1.2967 - accuracy: 0.2182 - val_loss: 1.3069 - val_accuracy: 0.2084\n",
            "Epoch 13/50\n",
            "157/157 [==============================] - 4s 26ms/step - loss: 1.2901 - accuracy: 0.2076 - val_loss: 1.2714 - val_accuracy: 0.1935\n",
            "Epoch 14/50\n",
            "157/157 [==============================] - 4s 26ms/step - loss: 1.2520 - accuracy: 0.1977 - val_loss: 1.2560 - val_accuracy: 0.1863\n",
            "Epoch 15/50\n",
            "157/157 [==============================] - 4s 27ms/step - loss: 1.2447 - accuracy: 0.2067 - val_loss: 1.2586 - val_accuracy: 0.1847\n",
            "Epoch 16/50\n",
            "157/157 [==============================] - 4s 26ms/step - loss: 1.2361 - accuracy: 0.2096 - val_loss: 1.2650 - val_accuracy: 0.1945\n",
            "Epoch 17/50\n",
            "157/157 [==============================] - 4s 26ms/step - loss: 1.2270 - accuracy: 0.2099 - val_loss: 1.2459 - val_accuracy: 0.1968\n",
            "Epoch 18/50\n",
            "157/157 [==============================] - 4s 26ms/step - loss: 1.2220 - accuracy: 0.2113 - val_loss: 1.2430 - val_accuracy: 0.2029\n",
            "Epoch 19/50\n",
            "157/157 [==============================] - 4s 26ms/step - loss: 1.2242 - accuracy: 0.2135 - val_loss: 1.2414 - val_accuracy: 0.1809\n",
            "Epoch 20/50\n",
            "157/157 [==============================] - 4s 27ms/step - loss: 1.2206 - accuracy: 0.2126 - val_loss: 1.2340 - val_accuracy: 0.2187\n",
            "Epoch 21/50\n",
            "157/157 [==============================] - 4s 27ms/step - loss: 1.2086 - accuracy: 0.2128 - val_loss: 1.2070 - val_accuracy: 0.2135\n",
            "Epoch 22/50\n",
            "157/157 [==============================] - 4s 27ms/step - loss: 1.1699 - accuracy: 0.2218 - val_loss: 1.1663 - val_accuracy: 0.2271\n",
            "Epoch 23/50\n",
            "157/157 [==============================] - 4s 27ms/step - loss: 1.1396 - accuracy: 0.2286 - val_loss: 1.1578 - val_accuracy: 0.2311\n",
            "Epoch 24/50\n",
            "157/157 [==============================] - 4s 27ms/step - loss: 1.1170 - accuracy: 0.2527 - val_loss: 1.1261 - val_accuracy: 0.2461\n",
            "Epoch 25/50\n",
            "157/157 [==============================] - 4s 27ms/step - loss: 1.0853 - accuracy: 0.2724 - val_loss: 1.1176 - val_accuracy: 0.2796\n",
            "Epoch 26/50\n",
            "157/157 [==============================] - 4s 27ms/step - loss: 1.0756 - accuracy: 0.2827 - val_loss: 1.0967 - val_accuracy: 0.2671\n",
            "Epoch 27/50\n",
            "157/157 [==============================] - 4s 27ms/step - loss: 1.0730 - accuracy: 0.2857 - val_loss: 1.1272 - val_accuracy: 0.2584\n",
            "Epoch 28/50\n",
            "157/157 [==============================] - 4s 27ms/step - loss: 1.0613 - accuracy: 0.2878 - val_loss: 1.1235 - val_accuracy: 0.2570\n",
            "Epoch 29/50\n",
            "157/157 [==============================] - 4s 27ms/step - loss: 1.0533 - accuracy: 0.2953 - val_loss: 1.1079 - val_accuracy: 0.2920\n",
            "Epoch 30/50\n",
            "157/157 [==============================] - 4s 26ms/step - loss: 1.0399 - accuracy: 0.3064 - val_loss: 1.0886 - val_accuracy: 0.3120\n",
            "Epoch 31/50\n",
            "157/157 [==============================] - 4s 27ms/step - loss: 1.0325 - accuracy: 0.3118 - val_loss: 1.0979 - val_accuracy: 0.3019\n",
            "Epoch 32/50\n",
            "157/157 [==============================] - 4s 26ms/step - loss: 1.0242 - accuracy: 0.3131 - val_loss: 1.0737 - val_accuracy: 0.3050\n",
            "Epoch 33/50\n",
            "157/157 [==============================] - 4s 26ms/step - loss: 1.0194 - accuracy: 0.3204 - val_loss: 1.0680 - val_accuracy: 0.3122\n",
            "Epoch 34/50\n",
            "157/157 [==============================] - 4s 27ms/step - loss: 1.0173 - accuracy: 0.3211 - val_loss: 1.0709 - val_accuracy: 0.3376\n",
            "Epoch 35/50\n",
            "157/157 [==============================] - 4s 27ms/step - loss: 1.0140 - accuracy: 0.3197 - val_loss: 1.0628 - val_accuracy: 0.3152\n",
            "Epoch 36/50\n",
            "157/157 [==============================] - 4s 27ms/step - loss: 1.0121 - accuracy: 0.3249 - val_loss: 1.0834 - val_accuracy: 0.2822\n",
            "Epoch 37/50\n",
            "157/157 [==============================] - 4s 27ms/step - loss: 1.0084 - accuracy: 0.3217 - val_loss: 1.0572 - val_accuracy: 0.3030\n",
            "Epoch 38/50\n",
            "157/157 [==============================] - 4s 26ms/step - loss: 1.0031 - accuracy: 0.3236 - val_loss: 1.0567 - val_accuracy: 0.3396\n",
            "Epoch 39/50\n",
            "157/157 [==============================] - 4s 27ms/step - loss: 0.9911 - accuracy: 0.3381 - val_loss: 1.0358 - val_accuracy: 0.3152\n",
            "Epoch 40/50\n",
            "157/157 [==============================] - 4s 27ms/step - loss: 0.9745 - accuracy: 0.3349 - val_loss: 1.0294 - val_accuracy: 0.3306\n",
            "Epoch 41/50\n",
            "157/157 [==============================] - 4s 27ms/step - loss: 0.9739 - accuracy: 0.3448 - val_loss: 1.0292 - val_accuracy: 0.3345\n",
            "Epoch 42/50\n",
            "157/157 [==============================] - 4s 27ms/step - loss: 0.9649 - accuracy: 0.3473 - val_loss: 1.0229 - val_accuracy: 0.3502\n",
            "Epoch 43/50\n",
            "157/157 [==============================] - 4s 27ms/step - loss: 0.9619 - accuracy: 0.3538 - val_loss: 1.0268 - val_accuracy: 0.3283\n",
            "Epoch 44/50\n",
            "157/157 [==============================] - 4s 27ms/step - loss: 0.9570 - accuracy: 0.3527 - val_loss: 1.0235 - val_accuracy: 0.3509\n",
            "Epoch 45/50\n",
            "157/157 [==============================] - 4s 27ms/step - loss: 0.9602 - accuracy: 0.3639 - val_loss: 1.0340 - val_accuracy: 0.3558\n",
            "Epoch 46/50\n",
            "157/157 [==============================] - 4s 27ms/step - loss: 0.9516 - accuracy: 0.3694 - val_loss: 1.0228 - val_accuracy: 0.3402\n",
            "Epoch 47/50\n",
            "157/157 [==============================] - 4s 27ms/step - loss: 0.9475 - accuracy: 0.3761 - val_loss: 1.0166 - val_accuracy: 0.3439\n",
            "Epoch 48/50\n",
            "157/157 [==============================] - 4s 27ms/step - loss: 0.9454 - accuracy: 0.3706 - val_loss: 1.0194 - val_accuracy: 0.3491\n",
            "Epoch 49/50\n",
            "157/157 [==============================] - 4s 27ms/step - loss: 0.9455 - accuracy: 0.3793 - val_loss: 1.0122 - val_accuracy: 0.3513\n",
            "Epoch 50/50\n",
            "157/157 [==============================] - 4s 27ms/step - loss: 0.9436 - accuracy: 0.3825 - val_loss: 1.0173 - val_accuracy: 0.3619\n"
          ],
          "name": "stdout"
        }
      ]
    },
    {
      "cell_type": "code",
      "metadata": {
        "id": "WedZYSKAsN_h"
      },
      "source": [
        "o1=student1.get_layer(\"reqs1\").output\n",
        "\n",
        "output=Activation('relu')(o1)\n",
        "output2=Dropout(0.5)(output)\n",
        "output3=Dense(10,activation=\"softmax\", name=\"d1\")(output2)\n",
        "mm1=Model(student1.get_layer('s1').input, output3)\n",
        "my_weights=teacher.get_layer('dense_2').get_weights()\n",
        "\n",
        "# multi_model.summary()\n"
      ],
      "execution_count": null,
      "outputs": []
    },
    {
      "cell_type": "code",
      "metadata": {
        "id": "tSH6KXXIvNc9"
      },
      "source": [
        "mm1.get_layer('d1').set_weights(my_weights)"
      ],
      "execution_count": null,
      "outputs": []
    },
    {
      "cell_type": "code",
      "metadata": {
        "id": "JSShbP9WvOVu"
      },
      "source": [
        "i=0\n",
        "for l in mm1.layers[:18]:\n",
        "  l.trainable=False\n",
        "  #print (l.name)\n",
        "  #print (i)\n",
        "  #i=i+1"
      ],
      "execution_count": null,
      "outputs": []
    },
    {
      "cell_type": "code",
      "metadata": {
        "id": "HOtU-uPEvOSd"
      },
      "source": [
        "mm1.compile(loss='categorical_crossentropy',\n",
        "              optimizer='adam',\n",
        "              metrics=['accuracy'])"
      ],
      "execution_count": null,
      "outputs": []
    },
    {
      "cell_type": "code",
      "metadata": {
        "colab": {
          "base_uri": "https://localhost:8080/"
        },
        "id": "SdyalPuDvOPa",
        "outputId": "ac4f4a95-f492-4fb6-c7fa-95309be6acfd"
      },
      "source": [
        "batch_size = 256\n",
        "mm_history=mm1.fit(X_train, Y_train,\n",
        "          batch_size=batch_size,\n",
        "          epochs=20,\n",
        "          verbose=1,\n",
        "          validation_data=(X_val, Y_val))"
      ],
      "execution_count": null,
      "outputs": [
        {
          "output_type": "stream",
          "text": [
            "Epoch 1/20\n",
            "157/157 [==============================] - 3s 15ms/step - loss: 0.2709 - accuracy: 0.9223 - val_loss: 0.7129 - val_accuracy: 0.8175\n",
            "Epoch 2/20\n",
            "157/157 [==============================] - 2s 12ms/step - loss: 0.2202 - accuracy: 0.9305 - val_loss: 0.6951 - val_accuracy: 0.8181\n",
            "Epoch 3/20\n",
            "157/157 [==============================] - 2s 12ms/step - loss: 0.2107 - accuracy: 0.9330 - val_loss: 0.7046 - val_accuracy: 0.8197\n",
            "Epoch 4/20\n",
            "157/157 [==============================] - 2s 12ms/step - loss: 0.2076 - accuracy: 0.9341 - val_loss: 0.6963 - val_accuracy: 0.8195\n",
            "Epoch 5/20\n",
            "157/157 [==============================] - 2s 12ms/step - loss: 0.2030 - accuracy: 0.9348 - val_loss: 0.7047 - val_accuracy: 0.8186\n",
            "Epoch 6/20\n",
            "157/157 [==============================] - 2s 12ms/step - loss: 0.1970 - accuracy: 0.9368 - val_loss: 0.6904 - val_accuracy: 0.8184\n",
            "Epoch 7/20\n",
            "157/157 [==============================] - 2s 12ms/step - loss: 0.1886 - accuracy: 0.9406 - val_loss: 0.6991 - val_accuracy: 0.8192\n",
            "Epoch 8/20\n",
            "157/157 [==============================] - 2s 12ms/step - loss: 0.1920 - accuracy: 0.9408 - val_loss: 0.7037 - val_accuracy: 0.8182\n",
            "Epoch 9/20\n",
            "157/157 [==============================] - 2s 12ms/step - loss: 0.1897 - accuracy: 0.9389 - val_loss: 0.6967 - val_accuracy: 0.8203\n",
            "Epoch 10/20\n",
            "157/157 [==============================] - 2s 12ms/step - loss: 0.1871 - accuracy: 0.9401 - val_loss: 0.7083 - val_accuracy: 0.8225\n",
            "Epoch 11/20\n",
            "157/157 [==============================] - 2s 12ms/step - loss: 0.1850 - accuracy: 0.9393 - val_loss: 0.7066 - val_accuracy: 0.8180\n",
            "Epoch 12/20\n",
            "157/157 [==============================] - 2s 12ms/step - loss: 0.1815 - accuracy: 0.9400 - val_loss: 0.7128 - val_accuracy: 0.8173\n",
            "Epoch 13/20\n",
            "157/157 [==============================] - 2s 12ms/step - loss: 0.1916 - accuracy: 0.9354 - val_loss: 0.7401 - val_accuracy: 0.8193\n",
            "Epoch 14/20\n",
            "157/157 [==============================] - 2s 12ms/step - loss: 0.1812 - accuracy: 0.9405 - val_loss: 0.7136 - val_accuracy: 0.8187\n",
            "Epoch 15/20\n",
            "157/157 [==============================] - 2s 12ms/step - loss: 0.1765 - accuracy: 0.9420 - val_loss: 0.7086 - val_accuracy: 0.8213\n",
            "Epoch 16/20\n",
            "157/157 [==============================] - 2s 12ms/step - loss: 0.1774 - accuracy: 0.9420 - val_loss: 0.7234 - val_accuracy: 0.8202\n",
            "Epoch 17/20\n",
            "157/157 [==============================] - 2s 12ms/step - loss: 0.1738 - accuracy: 0.9417 - val_loss: 0.7175 - val_accuracy: 0.8204\n",
            "Epoch 18/20\n",
            "157/157 [==============================] - 2s 12ms/step - loss: 0.1718 - accuracy: 0.9457 - val_loss: 0.7063 - val_accuracy: 0.8232\n",
            "Epoch 19/20\n",
            "157/157 [==============================] - 2s 12ms/step - loss: 0.1722 - accuracy: 0.9418 - val_loss: 0.7248 - val_accuracy: 0.8226\n",
            "Epoch 20/20\n",
            "157/157 [==============================] - 2s 12ms/step - loss: 0.1724 - accuracy: 0.9433 - val_loss: 0.7121 - val_accuracy: 0.8237\n"
          ],
          "name": "stdout"
        }
      ]
    },
    {
      "cell_type": "code",
      "metadata": {
        "colab": {
          "base_uri": "https://localhost:8080/"
        },
        "id": "ntK1Ld0uw6in",
        "outputId": "7051641e-70e8-46a5-fa44-b3adf59f54d8"
      },
      "source": [
        "l,a = mm1.evaluate(X_test, y_test)\n",
        "l, a"
      ],
      "execution_count": null,
      "outputs": [
        {
          "output_type": "stream",
          "text": [
            "313/313 [==============================] - 1s 3ms/step - loss: 0.7170 - accuracy: 0.8178\n"
          ],
          "name": "stdout"
        },
        {
          "output_type": "execute_result",
          "data": {
            "text/plain": [
              "(0.7169958353042603, 0.817799985408783)"
            ]
          },
          "metadata": {
            "tags": []
          },
          "execution_count": 66
        }
      ]
    },
    {
      "cell_type": "code",
      "metadata": {
        "id": "230nT_NOw_d7"
      },
      "source": [
        ""
      ],
      "execution_count": null,
      "outputs": []
    },
    {
      "cell_type": "markdown",
      "metadata": {
        "id": "z-UCfFcQxkEA"
      },
      "source": [
        "## 2 student"
      ]
    },
    {
      "cell_type": "code",
      "metadata": {
        "id": "6ttHNvoaxjxW"
      },
      "source": [
        "s2 = define_model('s2')\n",
        "s1 = define_model('s1')"
      ],
      "execution_count": null,
      "outputs": []
    },
    {
      "cell_type": "code",
      "metadata": {
        "colab": {
          "base_uri": "https://localhost:8080/"
        },
        "id": "lgLufcwoxji6",
        "outputId": "0aaf7772-dc15-479e-b72e-81e9bead6917"
      },
      "source": [
        "history1=s1.fit(X_train,s1Train,\n",
        "          batch_size=256,\n",
        "          epochs=50,\n",
        "          verbose=1,\n",
        "          validation_data=(X_val,s1Val))\n",
        "\n",
        "history2=s2.fit(X_train,s2Train,\n",
        "          batch_size=256,\n",
        "          epochs=50,\n",
        "          verbose=1,\n",
        "          validation_data=(X_val,s2Val))"
      ],
      "execution_count": null,
      "outputs": [
        {
          "output_type": "stream",
          "text": [
            "Epoch 1/50\n",
            "157/157 [==============================] - 5s 29ms/step - loss: 1.3712 - accuracy: 0.1065 - val_loss: 1.3905 - val_accuracy: 0.1021\n",
            "Epoch 2/50\n",
            "157/157 [==============================] - 4s 28ms/step - loss: 1.3540 - accuracy: 0.1111 - val_loss: 1.3487 - val_accuracy: 0.1162\n",
            "Epoch 3/50\n",
            "157/157 [==============================] - 4s 28ms/step - loss: 1.3390 - accuracy: 0.1295 - val_loss: 1.3456 - val_accuracy: 0.1153\n",
            "Epoch 4/50\n",
            "157/157 [==============================] - 4s 28ms/step - loss: 1.3258 - accuracy: 0.1427 - val_loss: 1.3357 - val_accuracy: 0.1454\n",
            "Epoch 5/50\n",
            "157/157 [==============================] - 4s 28ms/step - loss: 1.3010 - accuracy: 0.1544 - val_loss: 1.2977 - val_accuracy: 0.1653\n",
            "Epoch 6/50\n",
            "157/157 [==============================] - 4s 28ms/step - loss: 1.2807 - accuracy: 0.1609 - val_loss: 1.2799 - val_accuracy: 0.1638\n",
            "Epoch 7/50\n",
            "157/157 [==============================] - 5s 30ms/step - loss: 1.2693 - accuracy: 0.1636 - val_loss: 1.2750 - val_accuracy: 0.1512\n",
            "Epoch 8/50\n",
            "157/157 [==============================] - 4s 28ms/step - loss: 1.2609 - accuracy: 0.1680 - val_loss: 1.2700 - val_accuracy: 0.1901\n",
            "Epoch 9/50\n",
            "157/157 [==============================] - 4s 29ms/step - loss: 1.2548 - accuracy: 0.1807 - val_loss: 1.2622 - val_accuracy: 0.1769\n",
            "Epoch 10/50\n",
            "157/157 [==============================] - 4s 27ms/step - loss: 1.2380 - accuracy: 0.1909 - val_loss: 1.2220 - val_accuracy: 0.1782\n",
            "Epoch 11/50\n",
            "157/157 [==============================] - 4s 27ms/step - loss: 1.1707 - accuracy: 0.2062 - val_loss: 1.2042 - val_accuracy: 0.1742\n",
            "Epoch 12/50\n",
            "157/157 [==============================] - 4s 27ms/step - loss: 1.1415 - accuracy: 0.2256 - val_loss: 1.1501 - val_accuracy: 0.2307\n",
            "Epoch 13/50\n",
            "157/157 [==============================] - 4s 27ms/step - loss: 1.1178 - accuracy: 0.2286 - val_loss: 1.1468 - val_accuracy: 0.2241\n",
            "Epoch 14/50\n",
            "157/157 [==============================] - 4s 27ms/step - loss: 1.1036 - accuracy: 0.2255 - val_loss: 1.1239 - val_accuracy: 0.2231\n",
            "Epoch 15/50\n",
            "157/157 [==============================] - 4s 27ms/step - loss: 1.0933 - accuracy: 0.2286 - val_loss: 1.1302 - val_accuracy: 0.2201\n",
            "Epoch 16/50\n",
            "157/157 [==============================] - 4s 27ms/step - loss: 1.0854 - accuracy: 0.2360 - val_loss: 1.1097 - val_accuracy: 0.2318\n",
            "Epoch 17/50\n",
            "157/157 [==============================] - 4s 27ms/step - loss: 1.0780 - accuracy: 0.2400 - val_loss: 1.1043 - val_accuracy: 0.2520\n",
            "Epoch 18/50\n",
            "157/157 [==============================] - 4s 27ms/step - loss: 1.0728 - accuracy: 0.2508 - val_loss: 1.1074 - val_accuracy: 0.2518\n",
            "Epoch 19/50\n",
            "157/157 [==============================] - 4s 27ms/step - loss: 1.0684 - accuracy: 0.2598 - val_loss: 1.1065 - val_accuracy: 0.2450\n",
            "Epoch 20/50\n",
            "157/157 [==============================] - 4s 27ms/step - loss: 1.0630 - accuracy: 0.2672 - val_loss: 1.1317 - val_accuracy: 0.2708\n",
            "Epoch 21/50\n",
            "157/157 [==============================] - 4s 27ms/step - loss: 1.0581 - accuracy: 0.2746 - val_loss: 1.0865 - val_accuracy: 0.2743\n",
            "Epoch 22/50\n",
            "157/157 [==============================] - 4s 27ms/step - loss: 1.0333 - accuracy: 0.2810 - val_loss: 1.0744 - val_accuracy: 0.2860\n",
            "Epoch 23/50\n",
            "157/157 [==============================] - 4s 27ms/step - loss: 1.0242 - accuracy: 0.2848 - val_loss: 1.0718 - val_accuracy: 0.2770\n",
            "Epoch 24/50\n",
            "157/157 [==============================] - 4s 27ms/step - loss: 1.0151 - accuracy: 0.2852 - val_loss: 1.0699 - val_accuracy: 0.2678\n",
            "Epoch 25/50\n",
            "157/157 [==============================] - 4s 27ms/step - loss: 1.0105 - accuracy: 0.2891 - val_loss: 1.0623 - val_accuracy: 0.2746\n",
            "Epoch 26/50\n",
            "157/157 [==============================] - 4s 27ms/step - loss: 0.9975 - accuracy: 0.3113 - val_loss: 1.0465 - val_accuracy: 0.3105\n",
            "Epoch 27/50\n",
            "157/157 [==============================] - 4s 27ms/step - loss: 0.9852 - accuracy: 0.3226 - val_loss: 1.0332 - val_accuracy: 0.3115\n",
            "Epoch 28/50\n",
            "157/157 [==============================] - 4s 27ms/step - loss: 0.9773 - accuracy: 0.3753 - val_loss: 1.0311 - val_accuracy: 0.3610\n",
            "Epoch 29/50\n",
            "157/157 [==============================] - 4s 27ms/step - loss: 0.9733 - accuracy: 0.3801 - val_loss: 1.0297 - val_accuracy: 0.3645\n",
            "Epoch 30/50\n",
            "157/157 [==============================] - 4s 27ms/step - loss: 0.9675 - accuracy: 0.3857 - val_loss: 1.0348 - val_accuracy: 0.3488\n",
            "Epoch 31/50\n",
            "157/157 [==============================] - 4s 27ms/step - loss: 0.9652 - accuracy: 0.3864 - val_loss: 1.0258 - val_accuracy: 0.3658\n",
            "Epoch 32/50\n",
            "157/157 [==============================] - 4s 27ms/step - loss: 0.9637 - accuracy: 0.3866 - val_loss: 1.0246 - val_accuracy: 0.3555\n",
            "Epoch 33/50\n",
            "157/157 [==============================] - 4s 27ms/step - loss: 0.9602 - accuracy: 0.3869 - val_loss: 1.0214 - val_accuracy: 0.3787\n",
            "Epoch 34/50\n",
            "157/157 [==============================] - 4s 27ms/step - loss: 0.9569 - accuracy: 0.3907 - val_loss: 1.0171 - val_accuracy: 0.3834\n",
            "Epoch 35/50\n",
            "157/157 [==============================] - 4s 27ms/step - loss: 0.9546 - accuracy: 0.3933 - val_loss: 1.0226 - val_accuracy: 0.3728\n",
            "Epoch 36/50\n",
            "157/157 [==============================] - 4s 27ms/step - loss: 0.9527 - accuracy: 0.3948 - val_loss: 1.0238 - val_accuracy: 0.3635\n",
            "Epoch 37/50\n",
            "157/157 [==============================] - 4s 27ms/step - loss: 0.9508 - accuracy: 0.3943 - val_loss: 1.0252 - val_accuracy: 0.3581\n",
            "Epoch 38/50\n",
            "157/157 [==============================] - 4s 27ms/step - loss: 0.9483 - accuracy: 0.3981 - val_loss: 1.0353 - val_accuracy: 0.3673\n",
            "Epoch 39/50\n",
            "157/157 [==============================] - 4s 27ms/step - loss: 0.9456 - accuracy: 0.3988 - val_loss: 1.0226 - val_accuracy: 0.3797\n",
            "Epoch 40/50\n",
            "157/157 [==============================] - 4s 27ms/step - loss: 0.9445 - accuracy: 0.3992 - val_loss: 1.0191 - val_accuracy: 0.3738\n",
            "Epoch 41/50\n",
            "157/157 [==============================] - 4s 27ms/step - loss: 0.9419 - accuracy: 0.4022 - val_loss: 1.0228 - val_accuracy: 0.3642\n",
            "Epoch 42/50\n",
            "157/157 [==============================] - 4s 27ms/step - loss: 0.9416 - accuracy: 0.4034 - val_loss: 1.0227 - val_accuracy: 0.3709\n",
            "Epoch 43/50\n",
            "157/157 [==============================] - 4s 27ms/step - loss: 0.9401 - accuracy: 0.4068 - val_loss: 1.0171 - val_accuracy: 0.3836\n",
            "Epoch 44/50\n",
            "157/157 [==============================] - 4s 27ms/step - loss: 0.9385 - accuracy: 0.4065 - val_loss: 1.0347 - val_accuracy: 0.3592\n",
            "Epoch 45/50\n",
            "157/157 [==============================] - 4s 27ms/step - loss: 0.9376 - accuracy: 0.4071 - val_loss: 1.0197 - val_accuracy: 0.3914\n",
            "Epoch 46/50\n",
            "157/157 [==============================] - 4s 27ms/step - loss: 0.9370 - accuracy: 0.4082 - val_loss: 1.0194 - val_accuracy: 0.3762\n",
            "Epoch 47/50\n",
            "157/157 [==============================] - 4s 27ms/step - loss: 0.9355 - accuracy: 0.4072 - val_loss: 1.0121 - val_accuracy: 0.3775\n",
            "Epoch 48/50\n",
            "157/157 [==============================] - 4s 27ms/step - loss: 0.9340 - accuracy: 0.4077 - val_loss: 1.0145 - val_accuracy: 0.3810\n",
            "Epoch 49/50\n",
            "157/157 [==============================] - 4s 27ms/step - loss: 0.9313 - accuracy: 0.4123 - val_loss: 1.0185 - val_accuracy: 0.3706\n",
            "Epoch 50/50\n",
            "157/157 [==============================] - 4s 27ms/step - loss: 0.9331 - accuracy: 0.4079 - val_loss: 1.0143 - val_accuracy: 0.3833\n",
            "Epoch 1/50\n",
            "157/157 [==============================] - 5s 28ms/step - loss: 1.5766 - accuracy: 0.0817 - val_loss: 1.5032 - val_accuracy: 0.0337\n",
            "Epoch 2/50\n",
            "157/157 [==============================] - 4s 27ms/step - loss: 1.4494 - accuracy: 0.0908 - val_loss: 1.4633 - val_accuracy: 0.0841\n",
            "Epoch 3/50\n",
            "157/157 [==============================] - 4s 27ms/step - loss: 1.4172 - accuracy: 0.1298 - val_loss: 1.4388 - val_accuracy: 0.1283\n",
            "Epoch 4/50\n",
            "157/157 [==============================] - 4s 27ms/step - loss: 1.4111 - accuracy: 0.1020 - val_loss: 1.4067 - val_accuracy: 0.1130\n",
            "Epoch 5/50\n",
            "157/157 [==============================] - 4s 27ms/step - loss: 1.3957 - accuracy: 0.0911 - val_loss: 1.3619 - val_accuracy: 0.0870\n",
            "Epoch 6/50\n",
            "157/157 [==============================] - 4s 26ms/step - loss: 1.3475 - accuracy: 0.0678 - val_loss: 1.3409 - val_accuracy: 0.0515\n",
            "Epoch 7/50\n",
            "157/157 [==============================] - 4s 27ms/step - loss: 1.3301 - accuracy: 0.0635 - val_loss: 1.3435 - val_accuracy: 0.0703\n",
            "Epoch 8/50\n",
            "157/157 [==============================] - 4s 27ms/step - loss: 1.3258 - accuracy: 0.0648 - val_loss: 1.3265 - val_accuracy: 0.0857\n",
            "Epoch 9/50\n",
            "157/157 [==============================] - 4s 27ms/step - loss: 1.3154 - accuracy: 0.0783 - val_loss: 1.3077 - val_accuracy: 0.0643\n",
            "Epoch 10/50\n",
            "157/157 [==============================] - 4s 26ms/step - loss: 1.2966 - accuracy: 0.0771 - val_loss: 1.2902 - val_accuracy: 0.0729\n",
            "Epoch 11/50\n",
            "157/157 [==============================] - 4s 26ms/step - loss: 1.2810 - accuracy: 0.0755 - val_loss: 1.2505 - val_accuracy: 0.0680\n",
            "Epoch 12/50\n",
            "157/157 [==============================] - 4s 27ms/step - loss: 1.2207 - accuracy: 0.1241 - val_loss: 1.2016 - val_accuracy: 0.2040\n",
            "Epoch 13/50\n",
            "157/157 [==============================] - 4s 27ms/step - loss: 1.1742 - accuracy: 0.2060 - val_loss: 1.1577 - val_accuracy: 0.2688\n",
            "Epoch 14/50\n",
            "157/157 [==============================] - 4s 27ms/step - loss: 1.1377 - accuracy: 0.2674 - val_loss: 1.1275 - val_accuracy: 0.3028\n",
            "Epoch 15/50\n",
            "157/157 [==============================] - 4s 27ms/step - loss: 1.1208 - accuracy: 0.2918 - val_loss: 1.1226 - val_accuracy: 0.2796\n",
            "Epoch 16/50\n",
            "157/157 [==============================] - 4s 27ms/step - loss: 1.0941 - accuracy: 0.2938 - val_loss: 1.0527 - val_accuracy: 0.3133\n",
            "Epoch 17/50\n",
            "157/157 [==============================] - 4s 27ms/step - loss: 1.0260 - accuracy: 0.3119 - val_loss: 1.0524 - val_accuracy: 0.2792\n",
            "Epoch 18/50\n",
            "157/157 [==============================] - 4s 27ms/step - loss: 0.9912 - accuracy: 0.3273 - val_loss: 1.0358 - val_accuracy: 0.2965\n",
            "Epoch 19/50\n",
            "157/157 [==============================] - 4s 26ms/step - loss: 0.9792 - accuracy: 0.3289 - val_loss: 1.0167 - val_accuracy: 0.2931\n",
            "Epoch 20/50\n",
            "157/157 [==============================] - 4s 27ms/step - loss: 0.9664 - accuracy: 0.3326 - val_loss: 0.9845 - val_accuracy: 0.3178\n",
            "Epoch 21/50\n",
            "157/157 [==============================] - 4s 27ms/step - loss: 0.9595 - accuracy: 0.3263 - val_loss: 0.9820 - val_accuracy: 0.3045\n",
            "Epoch 22/50\n",
            "157/157 [==============================] - 4s 27ms/step - loss: 0.9464 - accuracy: 0.3299 - val_loss: 0.9662 - val_accuracy: 0.3151\n",
            "Epoch 23/50\n",
            "157/157 [==============================] - 4s 26ms/step - loss: 0.9423 - accuracy: 0.3325 - val_loss: 0.9795 - val_accuracy: 0.2995\n",
            "Epoch 24/50\n",
            "157/157 [==============================] - 4s 27ms/step - loss: 0.9333 - accuracy: 0.3297 - val_loss: 0.9651 - val_accuracy: 0.3344\n",
            "Epoch 25/50\n",
            "157/157 [==============================] - 4s 26ms/step - loss: 0.9232 - accuracy: 0.3271 - val_loss: 0.9664 - val_accuracy: 0.3042\n",
            "Epoch 26/50\n",
            "157/157 [==============================] - 4s 27ms/step - loss: 0.9207 - accuracy: 0.3286 - val_loss: 0.9623 - val_accuracy: 0.3181\n",
            "Epoch 27/50\n",
            "157/157 [==============================] - 4s 27ms/step - loss: 0.9115 - accuracy: 0.3217 - val_loss: 0.9504 - val_accuracy: 0.3167\n",
            "Epoch 28/50\n",
            "157/157 [==============================] - 4s 26ms/step - loss: 0.9113 - accuracy: 0.3297 - val_loss: 0.9616 - val_accuracy: 0.3238\n",
            "Epoch 29/50\n",
            "157/157 [==============================] - 4s 27ms/step - loss: 0.9108 - accuracy: 0.3238 - val_loss: 0.9544 - val_accuracy: 0.3266\n",
            "Epoch 30/50\n",
            "157/157 [==============================] - 4s 27ms/step - loss: 0.9040 - accuracy: 0.3318 - val_loss: 0.9507 - val_accuracy: 0.3184\n",
            "Epoch 31/50\n",
            "157/157 [==============================] - 4s 27ms/step - loss: 0.8980 - accuracy: 0.3356 - val_loss: 0.9483 - val_accuracy: 0.3364\n",
            "Epoch 32/50\n",
            "157/157 [==============================] - 4s 27ms/step - loss: 0.8976 - accuracy: 0.3365 - val_loss: 0.9535 - val_accuracy: 0.2966\n",
            "Epoch 33/50\n",
            "157/157 [==============================] - 4s 27ms/step - loss: 0.8905 - accuracy: 0.3550 - val_loss: 0.9449 - val_accuracy: 0.3529\n",
            "Epoch 34/50\n",
            "157/157 [==============================] - 4s 26ms/step - loss: 0.8892 - accuracy: 0.3708 - val_loss: 0.9445 - val_accuracy: 0.3583\n",
            "Epoch 35/50\n",
            "157/157 [==============================] - 4s 27ms/step - loss: 0.8862 - accuracy: 0.3743 - val_loss: 0.9492 - val_accuracy: 0.3439\n",
            "Epoch 36/50\n",
            "157/157 [==============================] - 4s 27ms/step - loss: 0.8893 - accuracy: 0.3699 - val_loss: 0.9400 - val_accuracy: 0.3465\n",
            "Epoch 37/50\n",
            "157/157 [==============================] - 4s 26ms/step - loss: 0.8856 - accuracy: 0.3749 - val_loss: 0.9364 - val_accuracy: 0.3644\n",
            "Epoch 38/50\n",
            "157/157 [==============================] - 4s 27ms/step - loss: 0.8833 - accuracy: 0.3713 - val_loss: 0.9507 - val_accuracy: 0.3557\n",
            "Epoch 39/50\n",
            "157/157 [==============================] - 4s 27ms/step - loss: 0.8826 - accuracy: 0.3729 - val_loss: 0.9394 - val_accuracy: 0.3407\n",
            "Epoch 40/50\n",
            "157/157 [==============================] - 4s 26ms/step - loss: 0.8862 - accuracy: 0.3716 - val_loss: 0.9481 - val_accuracy: 0.3323\n",
            "Epoch 41/50\n",
            "157/157 [==============================] - 4s 27ms/step - loss: 0.8781 - accuracy: 0.3700 - val_loss: 0.9432 - val_accuracy: 0.3419\n",
            "Epoch 42/50\n",
            "157/157 [==============================] - 4s 27ms/step - loss: 0.8737 - accuracy: 0.3809 - val_loss: 0.9246 - val_accuracy: 0.4002\n",
            "Epoch 43/50\n",
            "157/157 [==============================] - 4s 27ms/step - loss: 0.8589 - accuracy: 0.4113 - val_loss: 0.9274 - val_accuracy: 0.4183\n",
            "Epoch 44/50\n",
            "157/157 [==============================] - 4s 27ms/step - loss: 0.8547 - accuracy: 0.4166 - val_loss: 0.9217 - val_accuracy: 0.4103\n",
            "Epoch 45/50\n",
            "157/157 [==============================] - 4s 27ms/step - loss: 0.8512 - accuracy: 0.4220 - val_loss: 0.9179 - val_accuracy: 0.4005\n",
            "Epoch 46/50\n",
            "157/157 [==============================] - 4s 27ms/step - loss: 0.8466 - accuracy: 0.4338 - val_loss: 0.9334 - val_accuracy: 0.3884\n",
            "Epoch 47/50\n",
            "157/157 [==============================] - 4s 27ms/step - loss: 0.8466 - accuracy: 0.4272 - val_loss: 0.9216 - val_accuracy: 0.3757\n",
            "Epoch 48/50\n",
            "157/157 [==============================] - 4s 26ms/step - loss: 0.8443 - accuracy: 0.4363 - val_loss: 0.9163 - val_accuracy: 0.4071\n",
            "Epoch 49/50\n",
            "157/157 [==============================] - 4s 27ms/step - loss: 0.8434 - accuracy: 0.4342 - val_loss: 0.9196 - val_accuracy: 0.4110\n",
            "Epoch 50/50\n",
            "157/157 [==============================] - 4s 27ms/step - loss: 0.8426 - accuracy: 0.4310 - val_loss: 0.9180 - val_accuracy: 0.4117\n"
          ],
          "name": "stdout"
        }
      ]
    },
    {
      "cell_type": "code",
      "metadata": {
        "id": "EdOh_RHix6ZO"
      },
      "source": [
        ""
      ],
      "execution_count": null,
      "outputs": []
    },
    {
      "cell_type": "code",
      "metadata": {
        "id": "-m4jX8v9y5Rw"
      },
      "source": [
        "o1=s1.get_layer(\"reqs1\").output\n",
        "o2=s2.get_layer(\"reqs2\").output\n",
        "output=tensorflow.keras.layers.concatenate([o1,o2])\n",
        "\n",
        "output=Activation('relu')(output)\n",
        "output2=Dropout(0.5)(output)\n",
        "output3=Dense(10,activation=\"softmax\", name=\"d1\")(output2)\n",
        "mm2=Model([s1.get_layer('s1').input, s2.get_layer('s2').input], output3)\n",
        "my_weights=teacher.get_layer('dense_2').get_weights()\n",
        "\n",
        "# multi_model.summary()\n"
      ],
      "execution_count": null,
      "outputs": []
    },
    {
      "cell_type": "code",
      "metadata": {
        "id": "fRlebK_5y5Ry"
      },
      "source": [
        "mm2.get_layer('d1').set_weights(my_weights)"
      ],
      "execution_count": null,
      "outputs": []
    },
    {
      "cell_type": "code",
      "metadata": {
        "id": "BqFqqWRRy5Rz"
      },
      "source": [
        "i=0\n",
        "for l in mm2.layers[:18]:\n",
        "  l.trainable=False\n",
        "  #print (l.name)\n",
        "  #print (i)\n",
        "  #i=i+1"
      ],
      "execution_count": null,
      "outputs": []
    },
    {
      "cell_type": "code",
      "metadata": {
        "id": "6ouMv4rQy5R0"
      },
      "source": [
        "mm2.compile(loss='categorical_crossentropy',\n",
        "              optimizer='adam',\n",
        "              metrics=['accuracy'])"
      ],
      "execution_count": null,
      "outputs": []
    },
    {
      "cell_type": "code",
      "metadata": {
        "colab": {
          "base_uri": "https://localhost:8080/"
        },
        "id": "xpcB5C_UyvIA",
        "outputId": "db8ed2e9-707e-4b36-b195-29b63970da92"
      },
      "source": [
        "epochs = 10\n",
        "batch_size = 256\n",
        "mm2_history=mm2.fit([X_train,X_train], Y_train,\n",
        "          batch_size=batch_size,\n",
        "          epochs=20,\n",
        "          verbose=1,\n",
        "          validation_data=([X_val,X_val], Y_val))"
      ],
      "execution_count": null,
      "outputs": [
        {
          "output_type": "stream",
          "text": [
            "Epoch 1/20\n",
            "157/157 [==============================] - 5s 34ms/step - loss: 0.0925 - accuracy: 0.9700 - val_loss: 0.7880 - val_accuracy: 0.8315\n",
            "Epoch 2/20\n",
            "157/157 [==============================] - 5s 31ms/step - loss: 0.0904 - accuracy: 0.9699 - val_loss: 0.7829 - val_accuracy: 0.8344\n",
            "Epoch 3/20\n",
            "157/157 [==============================] - 5s 31ms/step - loss: 0.0891 - accuracy: 0.9713 - val_loss: 0.7887 - val_accuracy: 0.8334\n",
            "Epoch 4/20\n",
            "157/157 [==============================] - 5s 31ms/step - loss: 0.0878 - accuracy: 0.9714 - val_loss: 0.8102 - val_accuracy: 0.8322\n",
            "Epoch 5/20\n",
            "157/157 [==============================] - 5s 31ms/step - loss: 0.0862 - accuracy: 0.9708 - val_loss: 0.7784 - val_accuracy: 0.8355\n",
            "Epoch 6/20\n",
            "157/157 [==============================] - 5s 31ms/step - loss: 0.0883 - accuracy: 0.9706 - val_loss: 0.7793 - val_accuracy: 0.8354\n",
            "Epoch 7/20\n",
            "157/157 [==============================] - 5s 31ms/step - loss: 0.0864 - accuracy: 0.9709 - val_loss: 0.8122 - val_accuracy: 0.8311\n",
            "Epoch 8/20\n",
            "157/157 [==============================] - 5s 31ms/step - loss: 0.0858 - accuracy: 0.9717 - val_loss: 0.8051 - val_accuracy: 0.8388\n",
            "Epoch 9/20\n",
            "157/157 [==============================] - 5s 31ms/step - loss: 0.0812 - accuracy: 0.9720 - val_loss: 0.8003 - val_accuracy: 0.8350\n",
            "Epoch 10/20\n",
            "157/157 [==============================] - 5s 31ms/step - loss: 0.0864 - accuracy: 0.9710 - val_loss: 0.8740 - val_accuracy: 0.8228\n",
            "Epoch 11/20\n",
            "157/157 [==============================] - 5s 31ms/step - loss: 0.0847 - accuracy: 0.9718 - val_loss: 0.7893 - val_accuracy: 0.8352\n",
            "Epoch 12/20\n",
            "157/157 [==============================] - 5s 31ms/step - loss: 0.0836 - accuracy: 0.9719 - val_loss: 0.8220 - val_accuracy: 0.8372\n",
            "Epoch 13/20\n",
            "157/157 [==============================] - 5s 31ms/step - loss: 0.0779 - accuracy: 0.9736 - val_loss: 0.7975 - val_accuracy: 0.8359\n",
            "Epoch 14/20\n",
            "157/157 [==============================] - 5s 31ms/step - loss: 0.0830 - accuracy: 0.9732 - val_loss: 0.7924 - val_accuracy: 0.8353\n",
            "Epoch 15/20\n",
            "157/157 [==============================] - 5s 31ms/step - loss: 0.0810 - accuracy: 0.9724 - val_loss: 0.8066 - val_accuracy: 0.8382\n",
            "Epoch 16/20\n",
            "157/157 [==============================] - 5s 31ms/step - loss: 0.0772 - accuracy: 0.9748 - val_loss: 0.8320 - val_accuracy: 0.8375\n",
            "Epoch 17/20\n",
            "157/157 [==============================] - 5s 31ms/step - loss: 0.0751 - accuracy: 0.9750 - val_loss: 0.8125 - val_accuracy: 0.8376\n",
            "Epoch 18/20\n",
            "157/157 [==============================] - 5s 31ms/step - loss: 0.0814 - accuracy: 0.9733 - val_loss: 0.8109 - val_accuracy: 0.8354\n",
            "Epoch 19/20\n",
            "157/157 [==============================] - 5s 31ms/step - loss: 0.0775 - accuracy: 0.9741 - val_loss: 0.8471 - val_accuracy: 0.8355\n",
            "Epoch 20/20\n",
            "157/157 [==============================] - 5s 31ms/step - loss: 0.0765 - accuracy: 0.9757 - val_loss: 0.8581 - val_accuracy: 0.8336\n"
          ],
          "name": "stdout"
        }
      ]
    },
    {
      "cell_type": "code",
      "metadata": {
        "colab": {
          "base_uri": "https://localhost:8080/"
        },
        "id": "qgpeYmPDyvIC",
        "outputId": "6806c429-c0eb-4b45-e830-40a2865cc7da"
      },
      "source": [
        "l,a = mm2.evaluate([X_test,X_test], y_test)\n",
        "l, a"
      ],
      "execution_count": null,
      "outputs": [
        {
          "output_type": "stream",
          "text": [
            "313/313 [==============================] - 1s 4ms/step - loss: 0.9161 - accuracy: 0.8204\n"
          ],
          "name": "stdout"
        },
        {
          "output_type": "execute_result",
          "data": {
            "text/plain": [
              "(0.916100263595581, 0.8203999996185303)"
            ]
          },
          "metadata": {
            "tags": []
          },
          "execution_count": 58
        }
      ]
    },
    {
      "cell_type": "code",
      "metadata": {
        "id": "0lzM2BBWzU4F"
      },
      "source": [
        ""
      ],
      "execution_count": null,
      "outputs": []
    },
    {
      "cell_type": "markdown",
      "metadata": {
        "id": "REByDaop3fTe"
      },
      "source": [
        "## 4 students"
      ]
    },
    {
      "cell_type": "code",
      "metadata": {
        "id": "5DVUbUQ53gu8"
      },
      "source": [
        ""
      ],
      "execution_count": null,
      "outputs": []
    },
    {
      "cell_type": "code",
      "metadata": {
        "id": "NGg52IF13g73"
      },
      "source": [
        "s2 = define_model('s2')\n",
        "s1 = define_model('s1')\n",
        "s3 = define_model('s3')\n",
        "s4 = define_model('s4')"
      ],
      "execution_count": null,
      "outputs": []
    },
    {
      "cell_type": "code",
      "metadata": {
        "colab": {
          "base_uri": "https://localhost:8080/"
        },
        "id": "_ktbcZb23g74",
        "outputId": "3527fda3-6b5e-47ef-a376-5da3f543b1d0"
      },
      "source": [
        "history1=s1.fit(X_train,s1Train,\n",
        "          batch_size=256,\n",
        "          epochs=50,\n",
        "          verbose=1,\n",
        "          validation_data=(X_val,s1Val))\n",
        "\n",
        "history2=s2.fit(X_train,s2Train,\n",
        "          batch_size=256,\n",
        "          epochs=50,\n",
        "          verbose=1,\n",
        "          validation_data=(X_val,s2Val))"
      ],
      "execution_count": null,
      "outputs": [
        {
          "output_type": "stream",
          "text": [
            "Epoch 1/50\n",
            "157/157 [==============================] - 6s 31ms/step - loss: 1.7302 - accuracy: 0.0964 - val_loss: 1.7280 - val_accuracy: 0.0930\n",
            "Epoch 2/50\n",
            "157/157 [==============================] - 4s 26ms/step - loss: 1.6549 - accuracy: 0.1486 - val_loss: 1.6258 - val_accuracy: 0.1481\n",
            "Epoch 3/50\n",
            "157/157 [==============================] - 4s 26ms/step - loss: 1.6119 - accuracy: 0.1461 - val_loss: 1.5905 - val_accuracy: 0.1476\n",
            "Epoch 4/50\n",
            "157/157 [==============================] - 4s 26ms/step - loss: 1.5838 - accuracy: 0.1467 - val_loss: 1.5690 - val_accuracy: 0.1465\n",
            "Epoch 5/50\n",
            "157/157 [==============================] - 4s 26ms/step - loss: 1.5637 - accuracy: 0.1486 - val_loss: 1.5552 - val_accuracy: 0.1462\n",
            "Epoch 6/50\n",
            "157/157 [==============================] - 4s 26ms/step - loss: 1.5584 - accuracy: 0.1469 - val_loss: 1.5466 - val_accuracy: 0.1462\n",
            "Epoch 7/50\n",
            "157/157 [==============================] - 4s 26ms/step - loss: 1.5422 - accuracy: 0.1457 - val_loss: 1.5414 - val_accuracy: 0.1462\n",
            "Epoch 8/50\n",
            "157/157 [==============================] - 4s 26ms/step - loss: 1.5352 - accuracy: 0.1477 - val_loss: 1.5382 - val_accuracy: 0.1462\n",
            "Epoch 9/50\n",
            "157/157 [==============================] - 4s 26ms/step - loss: 1.5349 - accuracy: 0.1495 - val_loss: 1.5364 - val_accuracy: 0.1462\n",
            "Epoch 10/50\n",
            "157/157 [==============================] - 4s 26ms/step - loss: 1.5392 - accuracy: 0.1469 - val_loss: 1.5353 - val_accuracy: 0.1462\n",
            "Epoch 11/50\n",
            "157/157 [==============================] - 4s 26ms/step - loss: 1.5283 - accuracy: 0.1470 - val_loss: 1.5347 - val_accuracy: 0.1462\n",
            "Epoch 12/50\n",
            "157/157 [==============================] - 4s 26ms/step - loss: 1.5384 - accuracy: 0.1464 - val_loss: 1.5344 - val_accuracy: 0.1462\n",
            "Epoch 13/50\n",
            "157/157 [==============================] - 4s 26ms/step - loss: 1.5312 - accuracy: 0.1469 - val_loss: 1.5342 - val_accuracy: 0.1462\n",
            "Epoch 14/50\n",
            "157/157 [==============================] - 4s 26ms/step - loss: 1.5362 - accuracy: 0.1472 - val_loss: 1.5341 - val_accuracy: 0.1462\n",
            "Epoch 15/50\n",
            "157/157 [==============================] - 4s 26ms/step - loss: 1.5318 - accuracy: 0.1483 - val_loss: 1.5341 - val_accuracy: 0.1462\n",
            "Epoch 16/50\n",
            "157/157 [==============================] - 4s 26ms/step - loss: 1.5300 - accuracy: 0.1468 - val_loss: 1.5341 - val_accuracy: 0.1462\n",
            "Epoch 17/50\n",
            "157/157 [==============================] - 4s 26ms/step - loss: 1.5340 - accuracy: 0.1449 - val_loss: 1.5341 - val_accuracy: 0.1462\n",
            "Epoch 18/50\n",
            "157/157 [==============================] - 4s 26ms/step - loss: 1.5224 - accuracy: 0.1419 - val_loss: 1.5340 - val_accuracy: 0.1462\n",
            "Epoch 19/50\n",
            "157/157 [==============================] - 4s 26ms/step - loss: 1.5291 - accuracy: 0.1436 - val_loss: 1.5341 - val_accuracy: 0.1462\n",
            "Epoch 20/50\n",
            "157/157 [==============================] - 4s 26ms/step - loss: 1.5353 - accuracy: 0.1456 - val_loss: 1.5340 - val_accuracy: 0.1462\n",
            "Epoch 21/50\n",
            "157/157 [==============================] - 4s 26ms/step - loss: 1.5335 - accuracy: 0.1430 - val_loss: 1.5340 - val_accuracy: 0.1462\n",
            "Epoch 22/50\n",
            "157/157 [==============================] - 4s 26ms/step - loss: 1.5346 - accuracy: 0.1458 - val_loss: 1.5340 - val_accuracy: 0.1462\n",
            "Epoch 23/50\n",
            "157/157 [==============================] - 4s 26ms/step - loss: 1.5326 - accuracy: 0.1473 - val_loss: 1.5340 - val_accuracy: 0.1462\n",
            "Epoch 24/50\n",
            "157/157 [==============================] - 4s 26ms/step - loss: 1.5320 - accuracy: 0.1450 - val_loss: 1.5341 - val_accuracy: 0.1462\n",
            "Epoch 25/50\n",
            "157/157 [==============================] - 4s 26ms/step - loss: 1.5386 - accuracy: 0.1485 - val_loss: 1.5341 - val_accuracy: 0.1462\n",
            "Epoch 26/50\n",
            "157/157 [==============================] - 4s 26ms/step - loss: 1.5308 - accuracy: 0.1452 - val_loss: 1.5341 - val_accuracy: 0.1462\n",
            "Epoch 27/50\n",
            "157/157 [==============================] - 4s 26ms/step - loss: 1.5305 - accuracy: 0.1447 - val_loss: 1.5340 - val_accuracy: 0.1462\n",
            "Epoch 28/50\n",
            "157/157 [==============================] - 4s 26ms/step - loss: 1.5342 - accuracy: 0.1486 - val_loss: 1.5341 - val_accuracy: 0.1462\n",
            "Epoch 29/50\n",
            "157/157 [==============================] - 4s 26ms/step - loss: 1.5282 - accuracy: 0.1471 - val_loss: 1.5341 - val_accuracy: 0.1462\n",
            "Epoch 30/50\n",
            "157/157 [==============================] - 4s 26ms/step - loss: 1.5383 - accuracy: 0.1457 - val_loss: 1.5340 - val_accuracy: 0.1462\n",
            "Epoch 31/50\n",
            "157/157 [==============================] - 4s 26ms/step - loss: 1.5325 - accuracy: 0.1463 - val_loss: 1.5341 - val_accuracy: 0.1462\n",
            "Epoch 32/50\n",
            "157/157 [==============================] - 4s 26ms/step - loss: 1.5285 - accuracy: 0.1482 - val_loss: 1.5341 - val_accuracy: 0.1462\n",
            "Epoch 33/50\n",
            "157/157 [==============================] - 4s 26ms/step - loss: 1.5345 - accuracy: 0.1491 - val_loss: 1.5341 - val_accuracy: 0.1462\n",
            "Epoch 34/50\n",
            "157/157 [==============================] - 4s 26ms/step - loss: 1.5303 - accuracy: 0.1439 - val_loss: 1.5341 - val_accuracy: 0.1462\n",
            "Epoch 35/50\n",
            "157/157 [==============================] - 4s 26ms/step - loss: 1.5347 - accuracy: 0.1453 - val_loss: 1.5341 - val_accuracy: 0.1462\n",
            "Epoch 36/50\n",
            "157/157 [==============================] - 4s 26ms/step - loss: 1.5363 - accuracy: 0.1453 - val_loss: 1.5340 - val_accuracy: 0.1462\n",
            "Epoch 37/50\n",
            "157/157 [==============================] - 4s 26ms/step - loss: 1.5293 - accuracy: 0.1449 - val_loss: 1.5340 - val_accuracy: 0.1462\n",
            "Epoch 38/50\n",
            "157/157 [==============================] - 4s 26ms/step - loss: 1.5333 - accuracy: 0.1474 - val_loss: 1.5341 - val_accuracy: 0.1462\n",
            "Epoch 39/50\n",
            "157/157 [==============================] - 4s 26ms/step - loss: 1.5348 - accuracy: 0.1469 - val_loss: 1.5341 - val_accuracy: 0.1462\n",
            "Epoch 40/50\n",
            "157/157 [==============================] - 4s 26ms/step - loss: 1.5287 - accuracy: 0.1463 - val_loss: 1.5340 - val_accuracy: 0.1462\n",
            "Epoch 41/50\n",
            "157/157 [==============================] - 4s 26ms/step - loss: 1.5310 - accuracy: 0.1465 - val_loss: 1.5341 - val_accuracy: 0.1462\n",
            "Epoch 42/50\n",
            "157/157 [==============================] - 4s 26ms/step - loss: 1.5369 - accuracy: 0.1487 - val_loss: 1.5341 - val_accuracy: 0.1462\n",
            "Epoch 43/50\n",
            "157/157 [==============================] - 4s 26ms/step - loss: 1.5365 - accuracy: 0.1497 - val_loss: 1.5341 - val_accuracy: 0.1462\n",
            "Epoch 44/50\n",
            "157/157 [==============================] - 4s 26ms/step - loss: 1.5313 - accuracy: 0.1458 - val_loss: 1.5341 - val_accuracy: 0.1462\n",
            "Epoch 45/50\n",
            "157/157 [==============================] - 4s 26ms/step - loss: 1.5321 - accuracy: 0.1438 - val_loss: 1.5340 - val_accuracy: 0.1462\n",
            "Epoch 46/50\n",
            "157/157 [==============================] - 4s 26ms/step - loss: 1.5296 - accuracy: 0.1445 - val_loss: 1.5340 - val_accuracy: 0.1462\n",
            "Epoch 47/50\n",
            "157/157 [==============================] - 4s 26ms/step - loss: 1.5373 - accuracy: 0.1462 - val_loss: 1.5341 - val_accuracy: 0.1462\n",
            "Epoch 48/50\n",
            "157/157 [==============================] - 4s 26ms/step - loss: 1.5260 - accuracy: 0.1455 - val_loss: 1.5340 - val_accuracy: 0.1462\n",
            "Epoch 49/50\n",
            "157/157 [==============================] - 4s 26ms/step - loss: 1.5356 - accuracy: 0.1475 - val_loss: 1.5341 - val_accuracy: 0.1462\n",
            "Epoch 50/50\n",
            "157/157 [==============================] - 4s 26ms/step - loss: 1.5318 - accuracy: 0.1471 - val_loss: 1.5341 - val_accuracy: 0.1462\n",
            "Epoch 1/50\n",
            "157/157 [==============================] - 5s 28ms/step - loss: 1.5987 - accuracy: 0.0453 - val_loss: 1.8232 - val_accuracy: 0.0104\n",
            "Epoch 2/50\n",
            "157/157 [==============================] - 4s 27ms/step - loss: 1.4871 - accuracy: 0.2197 - val_loss: 1.5197 - val_accuracy: 0.1331\n",
            "Epoch 3/50\n",
            "157/157 [==============================] - 4s 27ms/step - loss: 1.4290 - accuracy: 0.2669 - val_loss: 1.4518 - val_accuracy: 0.2213\n",
            "Epoch 4/50\n",
            "157/157 [==============================] - 4s 27ms/step - loss: 1.4119 - accuracy: 0.2653 - val_loss: 1.3879 - val_accuracy: 0.2420\n",
            "Epoch 5/50\n",
            "157/157 [==============================] - 4s 27ms/step - loss: 1.3852 - accuracy: 0.2516 - val_loss: 1.3806 - val_accuracy: 0.2214\n",
            "Epoch 6/50\n",
            "157/157 [==============================] - 4s 27ms/step - loss: 1.3719 - accuracy: 0.2094 - val_loss: 1.3629 - val_accuracy: 0.1342\n",
            "Epoch 7/50\n",
            "157/157 [==============================] - 4s 27ms/step - loss: 1.3450 - accuracy: 0.1465 - val_loss: 1.3302 - val_accuracy: 0.1723\n",
            "Epoch 8/50\n",
            "157/157 [==============================] - 4s 27ms/step - loss: 1.3143 - accuracy: 0.1469 - val_loss: 1.3172 - val_accuracy: 0.1254\n",
            "Epoch 9/50\n",
            "157/157 [==============================] - 4s 27ms/step - loss: 1.3017 - accuracy: 0.1233 - val_loss: 1.3116 - val_accuracy: 0.1178\n",
            "Epoch 10/50\n",
            "157/157 [==============================] - 4s 27ms/step - loss: 1.2807 - accuracy: 0.1481 - val_loss: 1.2621 - val_accuracy: 0.1665\n",
            "Epoch 11/50\n",
            "157/157 [==============================] - 4s 27ms/step - loss: 1.2464 - accuracy: 0.1592 - val_loss: 1.2459 - val_accuracy: 0.1841\n",
            "Epoch 12/50\n",
            "157/157 [==============================] - 4s 27ms/step - loss: 1.2346 - accuracy: 0.1653 - val_loss: 1.2314 - val_accuracy: 0.1682\n",
            "Epoch 13/50\n",
            "157/157 [==============================] - 4s 27ms/step - loss: 1.2200 - accuracy: 0.1654 - val_loss: 1.2270 - val_accuracy: 0.1854\n",
            "Epoch 14/50\n",
            "157/157 [==============================] - 4s 27ms/step - loss: 1.2110 - accuracy: 0.1726 - val_loss: 1.2164 - val_accuracy: 0.1776\n",
            "Epoch 15/50\n",
            "157/157 [==============================] - 4s 27ms/step - loss: 1.2075 - accuracy: 0.1737 - val_loss: 1.2202 - val_accuracy: 0.1711\n",
            "Epoch 16/50\n",
            "157/157 [==============================] - 4s 27ms/step - loss: 1.2023 - accuracy: 0.1908 - val_loss: 1.2101 - val_accuracy: 0.2043\n",
            "Epoch 17/50\n",
            "157/157 [==============================] - 4s 27ms/step - loss: 1.1976 - accuracy: 0.1900 - val_loss: 1.2081 - val_accuracy: 0.2042\n",
            "Epoch 18/50\n",
            "157/157 [==============================] - 4s 27ms/step - loss: 1.1927 - accuracy: 0.1933 - val_loss: 1.2095 - val_accuracy: 0.1939\n",
            "Epoch 19/50\n",
            "157/157 [==============================] - 4s 27ms/step - loss: 1.1950 - accuracy: 0.1944 - val_loss: 1.2214 - val_accuracy: 0.2204\n",
            "Epoch 20/50\n",
            "157/157 [==============================] - 4s 27ms/step - loss: 1.1854 - accuracy: 0.2101 - val_loss: 1.1717 - val_accuracy: 0.1834\n",
            "Epoch 21/50\n",
            "157/157 [==============================] - 4s 27ms/step - loss: 1.1539 - accuracy: 0.2071 - val_loss: 1.1579 - val_accuracy: 0.1953\n",
            "Epoch 22/50\n",
            "157/157 [==============================] - 4s 27ms/step - loss: 1.1454 - accuracy: 0.2050 - val_loss: 1.1565 - val_accuracy: 0.1989\n",
            "Epoch 23/50\n",
            "157/157 [==============================] - 4s 27ms/step - loss: 1.1326 - accuracy: 0.1839 - val_loss: 1.1528 - val_accuracy: 0.1900\n",
            "Epoch 24/50\n",
            "157/157 [==============================] - 4s 27ms/step - loss: 1.1296 - accuracy: 0.1926 - val_loss: 1.1606 - val_accuracy: 0.1550\n",
            "Epoch 25/50\n",
            "157/157 [==============================] - 4s 27ms/step - loss: 1.1252 - accuracy: 0.1905 - val_loss: 1.1437 - val_accuracy: 0.1977\n",
            "Epoch 26/50\n",
            "157/157 [==============================] - 4s 27ms/step - loss: 1.1228 - accuracy: 0.1960 - val_loss: 1.1502 - val_accuracy: 0.2016\n",
            "Epoch 27/50\n",
            "157/157 [==============================] - 4s 27ms/step - loss: 1.1211 - accuracy: 0.2020 - val_loss: 1.1459 - val_accuracy: 0.2071\n",
            "Epoch 28/50\n",
            "157/157 [==============================] - 4s 27ms/step - loss: 1.1184 - accuracy: 0.1951 - val_loss: 1.1372 - val_accuracy: 0.1849\n",
            "Epoch 29/50\n",
            "157/157 [==============================] - 4s 27ms/step - loss: 1.1159 - accuracy: 0.1984 - val_loss: 1.1405 - val_accuracy: 0.2146\n",
            "Epoch 30/50\n",
            "157/157 [==============================] - 4s 27ms/step - loss: 1.1141 - accuracy: 0.2048 - val_loss: 1.1391 - val_accuracy: 0.2076\n",
            "Epoch 31/50\n",
            "157/157 [==============================] - 4s 26ms/step - loss: 1.1091 - accuracy: 0.2114 - val_loss: 1.1297 - val_accuracy: 0.2124\n",
            "Epoch 32/50\n",
            "157/157 [==============================] - 4s 27ms/step - loss: 1.0908 - accuracy: 0.2321 - val_loss: 1.1126 - val_accuracy: 0.2145\n",
            "Epoch 33/50\n",
            "157/157 [==============================] - 4s 27ms/step - loss: 1.0850 - accuracy: 0.2354 - val_loss: 1.1123 - val_accuracy: 0.2321\n",
            "Epoch 34/50\n",
            "157/157 [==============================] - 4s 27ms/step - loss: 1.0843 - accuracy: 0.2324 - val_loss: 1.1060 - val_accuracy: 0.2322\n",
            "Epoch 35/50\n",
            "157/157 [==============================] - 4s 27ms/step - loss: 1.0768 - accuracy: 0.2388 - val_loss: 1.1047 - val_accuracy: 0.2154\n",
            "Epoch 36/50\n",
            "157/157 [==============================] - 4s 27ms/step - loss: 1.0740 - accuracy: 0.2365 - val_loss: 1.1018 - val_accuracy: 0.2438\n",
            "Epoch 37/50\n",
            "157/157 [==============================] - 4s 27ms/step - loss: 1.0639 - accuracy: 0.2544 - val_loss: 1.0859 - val_accuracy: 0.2436\n",
            "Epoch 38/50\n",
            "157/157 [==============================] - 4s 27ms/step - loss: 1.0470 - accuracy: 0.2609 - val_loss: 1.0765 - val_accuracy: 0.2503\n",
            "Epoch 39/50\n",
            "157/157 [==============================] - 4s 27ms/step - loss: 1.0314 - accuracy: 0.2623 - val_loss: 1.0740 - val_accuracy: 0.2414\n",
            "Epoch 40/50\n",
            "157/157 [==============================] - 4s 27ms/step - loss: 1.0287 - accuracy: 0.2671 - val_loss: 1.0701 - val_accuracy: 0.2527\n",
            "Epoch 41/50\n",
            "157/157 [==============================] - 4s 27ms/step - loss: 1.0294 - accuracy: 0.2672 - val_loss: 1.0624 - val_accuracy: 0.3805\n",
            "Epoch 42/50\n",
            "157/157 [==============================] - 4s 26ms/step - loss: 1.0049 - accuracy: 0.4267 - val_loss: 1.0354 - val_accuracy: 0.4330\n",
            "Epoch 43/50\n",
            "157/157 [==============================] - 4s 27ms/step - loss: 0.9874 - accuracy: 0.4551 - val_loss: 1.0270 - val_accuracy: 0.4252\n",
            "Epoch 44/50\n",
            "157/157 [==============================] - 4s 27ms/step - loss: 0.9795 - accuracy: 0.4599 - val_loss: 1.0271 - val_accuracy: 0.4491\n",
            "Epoch 45/50\n",
            "157/157 [==============================] - 4s 27ms/step - loss: 0.9806 - accuracy: 0.4568 - val_loss: 1.0347 - val_accuracy: 0.4317\n",
            "Epoch 46/50\n",
            "157/157 [==============================] - 4s 27ms/step - loss: 0.9723 - accuracy: 0.4617 - val_loss: 1.0368 - val_accuracy: 0.4231\n",
            "Epoch 47/50\n",
            "157/157 [==============================] - 4s 27ms/step - loss: 0.9730 - accuracy: 0.4605 - val_loss: 1.0207 - val_accuracy: 0.4408\n",
            "Epoch 48/50\n",
            "157/157 [==============================] - 4s 27ms/step - loss: 0.9715 - accuracy: 0.4681 - val_loss: 1.0217 - val_accuracy: 0.4591\n",
            "Epoch 49/50\n",
            "157/157 [==============================] - 4s 27ms/step - loss: 0.9675 - accuracy: 0.4715 - val_loss: 1.0146 - val_accuracy: 0.4523\n",
            "Epoch 50/50\n",
            "157/157 [==============================] - 4s 27ms/step - loss: 0.9674 - accuracy: 0.4708 - val_loss: 1.0176 - val_accuracy: 0.4436\n"
          ],
          "name": "stdout"
        }
      ]
    },
    {
      "cell_type": "code",
      "metadata": {
        "colab": {
          "base_uri": "https://localhost:8080/"
        },
        "id": "Bj6OmQH33g76",
        "outputId": "fbe690a0-b24f-47d0-e521-22fa12d13592"
      },
      "source": [
        "history3 = s3.fit(X_train,s3Train,\n",
        "          batch_size=256,\n",
        "          epochs=50,\n",
        "          verbose=1,\n",
        "          validation_data=(X_val,s3Val))\n",
        "\n",
        "history4=s4.fit(X_train,s4Train,\n",
        "          batch_size=256,\n",
        "          epochs=50,\n",
        "          verbose=1,\n",
        "          validation_data=(X_val,s4Val))"
      ],
      "execution_count": null,
      "outputs": [
        {
          "output_type": "stream",
          "text": [
            "Epoch 1/50\n",
            "157/157 [==============================] - 5s 28ms/step - loss: 1.4794 - accuracy: 0.0778 - val_loss: 1.5467 - val_accuracy: 0.0900\n",
            "Epoch 2/50\n",
            "157/157 [==============================] - 4s 27ms/step - loss: 1.2718 - accuracy: 0.2064 - val_loss: 1.3213 - val_accuracy: 0.2275\n",
            "Epoch 3/50\n",
            "157/157 [==============================] - 4s 26ms/step - loss: 1.1944 - accuracy: 0.2480 - val_loss: 1.2068 - val_accuracy: 0.3406\n",
            "Epoch 4/50\n",
            "157/157 [==============================] - 4s 27ms/step - loss: 1.1463 - accuracy: 0.2772 - val_loss: 1.1500 - val_accuracy: 0.3217\n",
            "Epoch 5/50\n",
            "157/157 [==============================] - 4s 27ms/step - loss: 1.1235 - accuracy: 0.3018 - val_loss: 1.1151 - val_accuracy: 0.3207\n",
            "Epoch 6/50\n",
            "157/157 [==============================] - 4s 26ms/step - loss: 1.1039 - accuracy: 0.3128 - val_loss: 1.1109 - val_accuracy: 0.3246\n",
            "Epoch 7/50\n",
            "157/157 [==============================] - 4s 27ms/step - loss: 1.0895 - accuracy: 0.3177 - val_loss: 1.0868 - val_accuracy: 0.3221\n",
            "Epoch 8/50\n",
            "157/157 [==============================] - 4s 27ms/step - loss: 1.0752 - accuracy: 0.3255 - val_loss: 1.0590 - val_accuracy: 0.3205\n",
            "Epoch 9/50\n",
            "157/157 [==============================] - 4s 26ms/step - loss: 1.0449 - accuracy: 0.3314 - val_loss: 1.0673 - val_accuracy: 0.2943\n",
            "Epoch 10/50\n",
            "157/157 [==============================] - 4s 27ms/step - loss: 1.0075 - accuracy: 0.3686 - val_loss: 1.0190 - val_accuracy: 0.3504\n",
            "Epoch 11/50\n",
            "157/157 [==============================] - 4s 26ms/step - loss: 0.9893 - accuracy: 0.3944 - val_loss: 0.9907 - val_accuracy: 0.3844\n",
            "Epoch 12/50\n",
            "157/157 [==============================] - 4s 27ms/step - loss: 0.9645 - accuracy: 0.4085 - val_loss: 0.9703 - val_accuracy: 0.3985\n",
            "Epoch 13/50\n",
            "157/157 [==============================] - 4s 27ms/step - loss: 0.9490 - accuracy: 0.4109 - val_loss: 0.9715 - val_accuracy: 0.3654\n",
            "Epoch 14/50\n",
            "157/157 [==============================] - 4s 27ms/step - loss: 0.9350 - accuracy: 0.4097 - val_loss: 0.9501 - val_accuracy: 0.4211\n",
            "Epoch 15/50\n",
            "157/157 [==============================] - 4s 27ms/step - loss: 0.9259 - accuracy: 0.4174 - val_loss: 0.9428 - val_accuracy: 0.4219\n",
            "Epoch 16/50\n",
            "157/157 [==============================] - 4s 26ms/step - loss: 0.9128 - accuracy: 0.4098 - val_loss: 0.9204 - val_accuracy: 0.4141\n",
            "Epoch 17/50\n",
            "157/157 [==============================] - 4s 27ms/step - loss: 0.8874 - accuracy: 0.4257 - val_loss: 0.9022 - val_accuracy: 0.4078\n",
            "Epoch 18/50\n",
            "157/157 [==============================] - 4s 27ms/step - loss: 0.8715 - accuracy: 0.4171 - val_loss: 0.8948 - val_accuracy: 0.4152\n",
            "Epoch 19/50\n",
            "157/157 [==============================] - 4s 27ms/step - loss: 0.8592 - accuracy: 0.4266 - val_loss: 0.8980 - val_accuracy: 0.3866\n",
            "Epoch 20/50\n",
            "157/157 [==============================] - 4s 26ms/step - loss: 0.8487 - accuracy: 0.4294 - val_loss: 0.8631 - val_accuracy: 0.4363\n",
            "Epoch 21/50\n",
            "157/157 [==============================] - 4s 27ms/step - loss: 0.8239 - accuracy: 0.4486 - val_loss: 0.8485 - val_accuracy: 0.4621\n",
            "Epoch 22/50\n",
            "157/157 [==============================] - 4s 26ms/step - loss: 0.8160 - accuracy: 0.4538 - val_loss: 0.8555 - val_accuracy: 0.4262\n",
            "Epoch 23/50\n",
            "157/157 [==============================] - 4s 27ms/step - loss: 0.8061 - accuracy: 0.4537 - val_loss: 0.8424 - val_accuracy: 0.4527\n",
            "Epoch 24/50\n",
            "157/157 [==============================] - 4s 26ms/step - loss: 0.7973 - accuracy: 0.4600 - val_loss: 0.8417 - val_accuracy: 0.4484\n",
            "Epoch 25/50\n",
            "157/157 [==============================] - 4s 27ms/step - loss: 0.7986 - accuracy: 0.4619 - val_loss: 0.8405 - val_accuracy: 0.4837\n",
            "Epoch 26/50\n",
            "157/157 [==============================] - 4s 27ms/step - loss: 0.7912 - accuracy: 0.4704 - val_loss: 0.8489 - val_accuracy: 0.4320\n",
            "Epoch 27/50\n",
            "157/157 [==============================] - 4s 26ms/step - loss: 0.7873 - accuracy: 0.4711 - val_loss: 0.8277 - val_accuracy: 0.4684\n",
            "Epoch 28/50\n",
            "157/157 [==============================] - 4s 27ms/step - loss: 0.7852 - accuracy: 0.4727 - val_loss: 0.8356 - val_accuracy: 0.4650\n",
            "Epoch 29/50\n",
            "157/157 [==============================] - 4s 27ms/step - loss: 0.7805 - accuracy: 0.4699 - val_loss: 0.8269 - val_accuracy: 0.4638\n",
            "Epoch 30/50\n",
            "157/157 [==============================] - 4s 27ms/step - loss: 0.7798 - accuracy: 0.4770 - val_loss: 0.8250 - val_accuracy: 0.4694\n",
            "Epoch 31/50\n",
            "157/157 [==============================] - 4s 27ms/step - loss: 0.7797 - accuracy: 0.4723 - val_loss: 0.8229 - val_accuracy: 0.4594\n",
            "Epoch 32/50\n",
            "157/157 [==============================] - 4s 27ms/step - loss: 0.7703 - accuracy: 0.4720 - val_loss: 0.8232 - val_accuracy: 0.4626\n",
            "Epoch 33/50\n",
            "157/157 [==============================] - 4s 27ms/step - loss: 0.7634 - accuracy: 0.4700 - val_loss: 0.8144 - val_accuracy: 0.4443\n",
            "Epoch 34/50\n",
            "157/157 [==============================] - 4s 27ms/step - loss: 0.7632 - accuracy: 0.4743 - val_loss: 0.8195 - val_accuracy: 0.4910\n",
            "Epoch 35/50\n",
            "157/157 [==============================] - 4s 27ms/step - loss: 0.7633 - accuracy: 0.4810 - val_loss: 0.8301 - val_accuracy: 0.4414\n",
            "Epoch 36/50\n",
            "157/157 [==============================] - 4s 27ms/step - loss: 0.7594 - accuracy: 0.4787 - val_loss: 0.8139 - val_accuracy: 0.4691\n",
            "Epoch 37/50\n",
            "157/157 [==============================] - 4s 27ms/step - loss: 0.7551 - accuracy: 0.4755 - val_loss: 0.8100 - val_accuracy: 0.4575\n",
            "Epoch 38/50\n",
            "157/157 [==============================] - 4s 27ms/step - loss: 0.7540 - accuracy: 0.4724 - val_loss: 0.8154 - val_accuracy: 0.4543\n",
            "Epoch 39/50\n",
            "157/157 [==============================] - 4s 27ms/step - loss: 0.7513 - accuracy: 0.4706 - val_loss: 0.8336 - val_accuracy: 0.4735\n",
            "Epoch 40/50\n",
            "157/157 [==============================] - 4s 27ms/step - loss: 0.7507 - accuracy: 0.4683 - val_loss: 0.8175 - val_accuracy: 0.4854\n",
            "Epoch 41/50\n",
            "157/157 [==============================] - 4s 27ms/step - loss: 0.7470 - accuracy: 0.4641 - val_loss: 0.8108 - val_accuracy: 0.4618\n",
            "Epoch 42/50\n",
            "157/157 [==============================] - 4s 27ms/step - loss: 0.7415 - accuracy: 0.4579 - val_loss: 0.8067 - val_accuracy: 0.4259\n",
            "Epoch 43/50\n",
            "157/157 [==============================] - 4s 27ms/step - loss: 0.7328 - accuracy: 0.4552 - val_loss: 0.7876 - val_accuracy: 0.4366\n",
            "Epoch 44/50\n",
            "157/157 [==============================] - 4s 27ms/step - loss: 0.7261 - accuracy: 0.4494 - val_loss: 0.7912 - val_accuracy: 0.4397\n",
            "Epoch 45/50\n",
            "157/157 [==============================] - 4s 27ms/step - loss: 0.7242 - accuracy: 0.4498 - val_loss: 0.7902 - val_accuracy: 0.4042\n",
            "Epoch 46/50\n",
            "157/157 [==============================] - 4s 27ms/step - loss: 0.7210 - accuracy: 0.4471 - val_loss: 0.7874 - val_accuracy: 0.4333\n",
            "Epoch 47/50\n",
            "157/157 [==============================] - 4s 27ms/step - loss: 0.7184 - accuracy: 0.4417 - val_loss: 0.7882 - val_accuracy: 0.4228\n",
            "Epoch 48/50\n",
            "157/157 [==============================] - 4s 27ms/step - loss: 0.7142 - accuracy: 0.4439 - val_loss: 0.7852 - val_accuracy: 0.4114\n",
            "Epoch 49/50\n",
            "157/157 [==============================] - 4s 27ms/step - loss: 0.7128 - accuracy: 0.4384 - val_loss: 0.7805 - val_accuracy: 0.4134\n",
            "Epoch 50/50\n",
            "157/157 [==============================] - 4s 27ms/step - loss: 0.7098 - accuracy: 0.4416 - val_loss: 0.7784 - val_accuracy: 0.4300\n",
            "Epoch 1/50\n",
            "157/157 [==============================] - 5s 28ms/step - loss: 1.7044 - accuracy: 0.1206 - val_loss: 1.5827 - val_accuracy: 0.0849\n",
            "Epoch 2/50\n",
            "157/157 [==============================] - 4s 27ms/step - loss: 1.5041 - accuracy: 0.2086 - val_loss: 1.5200 - val_accuracy: 0.1157\n",
            "Epoch 3/50\n",
            "157/157 [==============================] - 4s 27ms/step - loss: 1.4572 - accuracy: 0.1871 - val_loss: 1.4675 - val_accuracy: 0.1515\n",
            "Epoch 4/50\n",
            "157/157 [==============================] - 4s 27ms/step - loss: 1.4241 - accuracy: 0.1540 - val_loss: 1.4235 - val_accuracy: 0.1569\n",
            "Epoch 5/50\n",
            "157/157 [==============================] - 4s 27ms/step - loss: 1.4084 - accuracy: 0.1571 - val_loss: 1.4046 - val_accuracy: 0.1573\n",
            "Epoch 6/50\n",
            "157/157 [==============================] - 4s 27ms/step - loss: 1.3986 - accuracy: 0.1536 - val_loss: 1.3947 - val_accuracy: 0.1462\n",
            "Epoch 7/50\n",
            "157/157 [==============================] - 4s 27ms/step - loss: 1.3818 - accuracy: 0.1552 - val_loss: 1.3698 - val_accuracy: 0.1401\n",
            "Epoch 8/50\n",
            "157/157 [==============================] - 4s 26ms/step - loss: 1.3549 - accuracy: 0.1660 - val_loss: 1.3626 - val_accuracy: 0.1252\n",
            "Epoch 9/50\n",
            "157/157 [==============================] - 4s 27ms/step - loss: 1.3322 - accuracy: 0.1746 - val_loss: 1.3166 - val_accuracy: 0.1370\n",
            "Epoch 10/50\n",
            "157/157 [==============================] - 4s 27ms/step - loss: 1.2950 - accuracy: 0.1776 - val_loss: 1.3058 - val_accuracy: 0.0806\n",
            "Epoch 11/50\n",
            "157/157 [==============================] - 4s 27ms/step - loss: 1.2473 - accuracy: 0.1647 - val_loss: 1.2352 - val_accuracy: 0.1480\n",
            "Epoch 12/50\n",
            "157/157 [==============================] - 4s 27ms/step - loss: 1.2129 - accuracy: 0.1960 - val_loss: 1.1976 - val_accuracy: 0.1756\n",
            "Epoch 13/50\n",
            "157/157 [==============================] - 4s 27ms/step - loss: 1.1804 - accuracy: 0.2291 - val_loss: 1.1713 - val_accuracy: 0.2358\n",
            "Epoch 14/50\n",
            "157/157 [==============================] - 4s 27ms/step - loss: 1.1595 - accuracy: 0.2646 - val_loss: 1.1570 - val_accuracy: 0.2660\n",
            "Epoch 15/50\n",
            "157/157 [==============================] - 4s 27ms/step - loss: 1.1404 - accuracy: 0.2785 - val_loss: 1.1512 - val_accuracy: 0.2594\n",
            "Epoch 16/50\n",
            "157/157 [==============================] - 4s 27ms/step - loss: 1.1230 - accuracy: 0.2870 - val_loss: 1.1359 - val_accuracy: 0.2933\n",
            "Epoch 17/50\n",
            "157/157 [==============================] - 4s 27ms/step - loss: 1.1170 - accuracy: 0.2968 - val_loss: 1.1280 - val_accuracy: 0.2893\n",
            "Epoch 18/50\n",
            "157/157 [==============================] - 4s 27ms/step - loss: 1.0965 - accuracy: 0.3129 - val_loss: 1.1078 - val_accuracy: 0.3069\n",
            "Epoch 19/50\n",
            "157/157 [==============================] - 4s 27ms/step - loss: 1.0839 - accuracy: 0.3144 - val_loss: 1.1025 - val_accuracy: 0.2907\n",
            "Epoch 20/50\n",
            "157/157 [==============================] - 4s 27ms/step - loss: 1.0700 - accuracy: 0.3214 - val_loss: 1.1110 - val_accuracy: 0.3203\n",
            "Epoch 21/50\n",
            "157/157 [==============================] - 4s 27ms/step - loss: 1.0656 - accuracy: 0.3275 - val_loss: 1.0965 - val_accuracy: 0.2938\n",
            "Epoch 22/50\n",
            "157/157 [==============================] - 4s 27ms/step - loss: 1.0568 - accuracy: 0.3187 - val_loss: 1.1011 - val_accuracy: 0.3147\n",
            "Epoch 23/50\n",
            "157/157 [==============================] - 4s 27ms/step - loss: 1.0531 - accuracy: 0.3307 - val_loss: 1.0861 - val_accuracy: 0.3111\n",
            "Epoch 24/50\n",
            "157/157 [==============================] - 4s 27ms/step - loss: 1.0472 - accuracy: 0.3351 - val_loss: 1.0902 - val_accuracy: 0.3362\n",
            "Epoch 25/50\n",
            "157/157 [==============================] - 4s 27ms/step - loss: 1.0465 - accuracy: 0.3444 - val_loss: 1.0900 - val_accuracy: 0.3452\n",
            "Epoch 26/50\n",
            "157/157 [==============================] - 4s 27ms/step - loss: 1.0424 - accuracy: 0.3492 - val_loss: 1.0824 - val_accuracy: 0.3362\n",
            "Epoch 27/50\n",
            "157/157 [==============================] - 4s 27ms/step - loss: 1.0352 - accuracy: 0.3463 - val_loss: 1.0782 - val_accuracy: 0.3475\n",
            "Epoch 28/50\n",
            "157/157 [==============================] - 4s 27ms/step - loss: 1.0338 - accuracy: 0.3460 - val_loss: 1.0739 - val_accuracy: 0.3196\n",
            "Epoch 29/50\n",
            "157/157 [==============================] - 4s 27ms/step - loss: 1.0242 - accuracy: 0.3550 - val_loss: 1.0780 - val_accuracy: 0.3317\n",
            "Epoch 30/50\n",
            "157/157 [==============================] - 4s 27ms/step - loss: 1.0188 - accuracy: 0.3505 - val_loss: 1.0737 - val_accuracy: 0.3310\n",
            "Epoch 31/50\n",
            "157/157 [==============================] - 4s 27ms/step - loss: 1.0191 - accuracy: 0.3535 - val_loss: 1.0696 - val_accuracy: 0.3324\n",
            "Epoch 32/50\n",
            "157/157 [==============================] - 4s 27ms/step - loss: 1.0186 - accuracy: 0.3594 - val_loss: 1.0761 - val_accuracy: 0.3220\n",
            "Epoch 33/50\n",
            "157/157 [==============================] - 4s 27ms/step - loss: 1.0163 - accuracy: 0.3591 - val_loss: 1.0790 - val_accuracy: 0.3256\n",
            "Epoch 34/50\n",
            "157/157 [==============================] - 4s 27ms/step - loss: 1.0153 - accuracy: 0.3563 - val_loss: 1.0734 - val_accuracy: 0.3227\n",
            "Epoch 35/50\n",
            "157/157 [==============================] - 4s 27ms/step - loss: 1.0122 - accuracy: 0.3581 - val_loss: 1.0707 - val_accuracy: 0.3425\n",
            "Epoch 36/50\n",
            "157/157 [==============================] - 4s 27ms/step - loss: 1.0140 - accuracy: 0.3577 - val_loss: 1.0817 - val_accuracy: 0.3305\n",
            "Epoch 37/50\n",
            "157/157 [==============================] - 4s 27ms/step - loss: 1.0131 - accuracy: 0.3609 - val_loss: 1.0697 - val_accuracy: 0.3459\n",
            "Epoch 38/50\n",
            "157/157 [==============================] - 4s 27ms/step - loss: 1.0091 - accuracy: 0.3638 - val_loss: 1.0695 - val_accuracy: 0.3440\n",
            "Epoch 39/50\n",
            "157/157 [==============================] - 4s 27ms/step - loss: 1.0078 - accuracy: 0.3652 - val_loss: 1.0736 - val_accuracy: 0.3344\n",
            "Epoch 40/50\n",
            "157/157 [==============================] - 4s 27ms/step - loss: 1.0092 - accuracy: 0.3702 - val_loss: 1.0695 - val_accuracy: 0.3375\n",
            "Epoch 41/50\n",
            "157/157 [==============================] - 4s 27ms/step - loss: 1.0040 - accuracy: 0.3633 - val_loss: 1.0723 - val_accuracy: 0.3339\n",
            "Epoch 42/50\n",
            "157/157 [==============================] - 4s 27ms/step - loss: 1.0035 - accuracy: 0.3668 - val_loss: 1.0704 - val_accuracy: 0.3302\n",
            "Epoch 43/50\n",
            "157/157 [==============================] - 4s 27ms/step - loss: 1.0004 - accuracy: 0.3677 - val_loss: 1.0671 - val_accuracy: 0.3425\n",
            "Epoch 44/50\n",
            "157/157 [==============================] - 4s 27ms/step - loss: 1.0059 - accuracy: 0.3721 - val_loss: 1.0645 - val_accuracy: 0.3745\n",
            "Epoch 45/50\n",
            "157/157 [==============================] - 4s 27ms/step - loss: 0.9986 - accuracy: 0.4223 - val_loss: 1.0549 - val_accuracy: 0.4162\n",
            "Epoch 46/50\n",
            "157/157 [==============================] - 4s 27ms/step - loss: 0.9885 - accuracy: 0.4320 - val_loss: 1.0650 - val_accuracy: 0.3956\n",
            "Epoch 47/50\n",
            "157/157 [==============================] - 4s 27ms/step - loss: 0.9912 - accuracy: 0.4440 - val_loss: 1.0525 - val_accuracy: 0.4292\n",
            "Epoch 48/50\n",
            "157/157 [==============================] - 4s 27ms/step - loss: 0.9850 - accuracy: 0.4377 - val_loss: 1.0515 - val_accuracy: 0.4320\n",
            "Epoch 49/50\n",
            "157/157 [==============================] - 4s 27ms/step - loss: 0.9747 - accuracy: 0.4540 - val_loss: 1.0589 - val_accuracy: 0.3915\n",
            "Epoch 50/50\n",
            "157/157 [==============================] - 4s 27ms/step - loss: 0.9764 - accuracy: 0.4463 - val_loss: 1.0562 - val_accuracy: 0.4230\n"
          ],
          "name": "stdout"
        }
      ]
    },
    {
      "cell_type": "code",
      "metadata": {
        "id": "vUW0Ff2o3g77"
      },
      "source": [
        "o1=s1.get_layer(\"reqs1\").output\n",
        "o2=s2.get_layer(\"reqs2\").output\n",
        "o3=s3.get_layer(\"reqs3\").output\n",
        "o4=s4.get_layer(\"reqs4\").output\n",
        "output=tensorflow.keras.layers.concatenate([o1,o2,o3,o4])\n",
        "\n",
        "output=Activation('relu')(output)\n",
        "output2=Dropout(0.5)(output)\n",
        "output3=Dense(10,activation=\"softmax\", name=\"d1\")(output2)\n",
        "mm2=Model([s1.get_layer('s1').input, \n",
        "           s2.get_layer('s2').input,\n",
        "           s3.get_layer('s3').input,\n",
        "           s4.get_layer('s4').input], output3)\n",
        "my_weights=teacher.get_layer('dense_2').get_weights()\n",
        "\n",
        "# multi_model.summary()\n"
      ],
      "execution_count": null,
      "outputs": []
    },
    {
      "cell_type": "code",
      "metadata": {
        "id": "rYIGgP4C3g78"
      },
      "source": [
        "mm2.get_layer('d1').set_weights(my_weights)"
      ],
      "execution_count": null,
      "outputs": []
    },
    {
      "cell_type": "code",
      "metadata": {
        "id": "LzyW_5Oy4jdw"
      },
      "source": [
        "i=0\n",
        "for l in mm2.layers[:len(mm2.layers)-1]:\n",
        "    l.trainable=False"
      ],
      "execution_count": null,
      "outputs": []
    },
    {
      "cell_type": "code",
      "metadata": {
        "id": "sx5pzI7k3g7-"
      },
      "source": [
        "mm2.compile(loss='categorical_crossentropy',\n",
        "              optimizer='adam',\n",
        "              metrics=['accuracy'])"
      ],
      "execution_count": null,
      "outputs": []
    },
    {
      "cell_type": "code",
      "metadata": {
        "colab": {
          "base_uri": "https://localhost:8080/"
        },
        "id": "gXq5D5cC3g7_",
        "outputId": "5ece5752-9780-4103-9f60-e535ff499ef8"
      },
      "source": [
        "epochs = 10\n",
        "batch_size = 256\n",
        "mm2_history=mm2.fit([X_train,X_train,X_train,X_train], Y_train,\n",
        "          batch_size=batch_size,\n",
        "          epochs=5,\n",
        "          verbose=1,\n",
        "          validation_data=([X_val,X_val,X_val,X_val], Y_val))"
      ],
      "execution_count": null,
      "outputs": [
        {
          "output_type": "stream",
          "text": [
            "Epoch 1/5\n",
            "157/157 [==============================] - 9s 48ms/step - loss: 0.7834 - accuracy: 0.7983 - val_loss: 0.5761 - val_accuracy: 0.8477\n",
            "Epoch 2/5\n",
            "157/157 [==============================] - 6s 41ms/step - loss: 0.3492 - accuracy: 0.9070 - val_loss: 0.5813 - val_accuracy: 0.8484\n",
            "Epoch 3/5\n",
            "157/157 [==============================] - 6s 41ms/step - loss: 0.3248 - accuracy: 0.9135 - val_loss: 0.5656 - val_accuracy: 0.8507\n",
            "Epoch 4/5\n",
            "157/157 [==============================] - 6s 41ms/step - loss: 0.3056 - accuracy: 0.9195 - val_loss: 0.5548 - val_accuracy: 0.8503\n",
            "Epoch 5/5\n",
            "157/157 [==============================] - 6s 41ms/step - loss: 0.2868 - accuracy: 0.9235 - val_loss: 0.5435 - val_accuracy: 0.8510\n"
          ],
          "name": "stdout"
        }
      ]
    },
    {
      "cell_type": "code",
      "metadata": {
        "colab": {
          "base_uri": "https://localhost:8080/"
        },
        "id": "8GKEMWisA-bQ",
        "outputId": "9b2f6107-b934-4a62-dd3f-0c6383ea172f"
      },
      "source": [
        "mm2_history=mm2.fit([X_train,X_train,X_train,X_train], Y_train,\n",
        "          batch_size=batch_size,\n",
        "          epochs=5,\n",
        "          verbose=1,\n",
        "          validation_data=([X_val,X_val,X_val,X_val], Y_val))"
      ],
      "execution_count": null,
      "outputs": [
        {
          "output_type": "stream",
          "text": [
            "Epoch 1/5\n",
            "157/157 [==============================] - 8s 49ms/step - loss: 0.2699 - accuracy: 0.9272 - val_loss: 0.5343 - val_accuracy: 0.8506\n",
            "Epoch 2/5\n",
            "157/157 [==============================] - 6s 41ms/step - loss: 0.2713 - accuracy: 0.9263 - val_loss: 0.5247 - val_accuracy: 0.8504\n",
            "Epoch 3/5\n",
            "157/157 [==============================] - 6s 41ms/step - loss: 0.2663 - accuracy: 0.9270 - val_loss: 0.5160 - val_accuracy: 0.8504\n",
            "Epoch 4/5\n",
            "157/157 [==============================] - 6s 41ms/step - loss: 0.2604 - accuracy: 0.9270 - val_loss: 0.5133 - val_accuracy: 0.8498\n",
            "Epoch 5/5\n",
            "157/157 [==============================] - 7s 42ms/step - loss: 0.2582 - accuracy: 0.9284 - val_loss: 0.5065 - val_accuracy: 0.8509\n"
          ],
          "name": "stdout"
        }
      ]
    },
    {
      "cell_type": "code",
      "metadata": {
        "colab": {
          "base_uri": "https://localhost:8080/"
        },
        "id": "fv7BdZJe3g8A",
        "outputId": "34f6aeb3-c3d6-4102-a0a0-123624eedb31"
      },
      "source": [
        "l,a = mm2.evaluate([X_test,X_test,X_test,X_test], y_test)\n",
        "l, a"
      ],
      "execution_count": null,
      "outputs": [
        {
          "output_type": "stream",
          "text": [
            "313/313 [==============================] - 2s 6ms/step - loss: 0.5463 - accuracy: 0.8420\n"
          ],
          "name": "stdout"
        },
        {
          "output_type": "execute_result",
          "data": {
            "text/plain": [
              "(0.5462550520896912, 0.8420000076293945)"
            ]
          },
          "metadata": {
            "tags": []
          },
          "execution_count": 22
        }
      ]
    },
    {
      "cell_type": "code",
      "metadata": {
        "id": "P8T6wQOG4xU_"
      },
      "source": [
        ""
      ],
      "execution_count": null,
      "outputs": []
    }
  ]
}